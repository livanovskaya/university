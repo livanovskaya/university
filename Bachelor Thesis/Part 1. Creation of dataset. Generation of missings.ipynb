{
 "cells": [
  {
   "cell_type": "code",
   "execution_count": null,
   "id": "fc908018",
   "metadata": {},
   "outputs": [],
   "source": [
    "#imports\n",
    "import pandas as pd\n",
    "import numpy as np\n",
    "import polars as pl\n",
    "from scipy.stats import pearsonr \n",
    "import random as rd"
   ]
  },
  {
   "cell_type": "code",
   "execution_count": null,
   "id": "50048e0a",
   "metadata": {},
   "outputs": [],
   "source": [
    "ess = pd.read_csv('ESS9e03_1.csv', low_memory = False)"
   ]
  },
  {
   "cell_type": "code",
   "execution_count": null,
   "id": "8bcd499d",
   "metadata": {},
   "outputs": [],
   "source": [
    "ess.head(20)"
   ]
  },
  {
   "cell_type": "code",
   "execution_count": null,
   "id": "63036950",
   "metadata": {},
   "outputs": [],
   "source": [
    "france = ess[ess['cntry'] == 'FR']\n",
    "france"
   ]
  },
  {
   "cell_type": "code",
   "execution_count": null,
   "id": "154ccbc7",
   "metadata": {},
   "outputs": [],
   "source": [
    "fr_ess = france[['idno', 'polintr', 'trstprt', 'stflife', 'stfeco', 'sclmeet', 'agea']]\n",
    "fr_ess = fr_ess[(fr_ess['polintr'] != 77) & (fr_ess['polintr'] != 88) & (fr_ess['polintr'] !=99)]\n",
    "fr_ess = fr_ess[(fr_ess['trstprt'] != 77) & (fr_ess['trstprt'] != 88) & (fr_ess['trstprt'] !=99)]\n",
    "fr_ess = fr_ess[(fr_ess['stflife'] != 77) & (fr_ess['stflife'] != 88) & (fr_ess['stflife'] !=99)]\n",
    "fr_ess = fr_ess[(fr_ess['stfeco'] != 77) & (fr_ess['stfeco'] != 88) & (fr_ess['stfeco'] !=99)]\n",
    "fr_ess = fr_ess[(fr_ess['sclmeet'] != 77) & (fr_ess['sclmeet'] != 88) & (fr_ess['sclmeet'] !=99)]\n",
    "fr_ess = fr_ess[(fr_ess['agea'] != 999)]\n",
    "fr_ess"
   ]
  },
  {
   "cell_type": "code",
   "execution_count": null,
   "id": "95141c18",
   "metadata": {},
   "outputs": [],
   "source": [
    "fr_ess_subset_1 = fr_ess.iloc[:10, :]\n",
    "fr_ess_subset_1"
   ]
  },
  {
   "cell_type": "code",
   "execution_count": null,
   "id": "52c109e4",
   "metadata": {},
   "outputs": [],
   "source": [
    "fr_ess_subset_2 = fr_ess.iloc[10:20, :]\n",
    "fr_ess_subset_2 = fr_ess_subset_2.sort_values('agea')\n",
    "fr_ess_subset_2"
   ]
  },
  {
   "cell_type": "code",
   "execution_count": null,
   "id": "1eadf463",
   "metadata": {},
   "outputs": [],
   "source": [
    "fr_ess_subset_3 = fr_ess.iloc[20:30, :]\n",
    "fr_ess_subset_3"
   ]
  },
  {
   "cell_type": "code",
   "execution_count": null,
   "id": "9557fd86",
   "metadata": {},
   "outputs": [],
   "source": [
    "fr_ess_subset_4 = fr_ess.iloc[30:40, :]\n",
    "fr_ess_subset_4"
   ]
  },
  {
   "cell_type": "code",
   "execution_count": null,
   "id": "f8319d7d",
   "metadata": {},
   "outputs": [],
   "source": []
  },
  {
   "cell_type": "markdown",
   "id": "2fab1686",
   "metadata": {},
   "source": [
    "### Making MCAR missings in our data"
   ]
  },
  {
   "cell_type": "code",
   "execution_count": null,
   "id": "4777aa84",
   "metadata": {},
   "outputs": [],
   "source": [
    "np.random.seed(110)\n",
    "mask = np.random.choice([True, False], size=tuple([len(fr_ess_subset_1), 1]))\n",
    "matrix = np.full((len(fr_ess_subset_1), fr_ess_subset_1.shape[1] - 1), False)\n",
    "\n",
    "matrix_new = np.concatenate((matrix, mask), axis=1)\n",
    "matrix_new"
   ]
  },
  {
   "cell_type": "code",
   "execution_count": null,
   "id": "3d033dd2",
   "metadata": {},
   "outputs": [],
   "source": [
    "mask[mask.all(1),-1] = 0\n",
    "\n",
    "fr_ess_subset_1_MCAR = fr_ess_subset_1.mask(matrix_new)\n",
    "fr_ess_subset_1_MCAR"
   ]
  },
  {
   "cell_type": "code",
   "execution_count": null,
   "id": "8225505b",
   "metadata": {},
   "outputs": [],
   "source": [
    "fr_ess_subset_1_MCAR.corr()"
   ]
  },
  {
   "cell_type": "code",
   "execution_count": null,
   "id": "7164791a",
   "metadata": {},
   "outputs": [],
   "source": []
  },
  {
   "cell_type": "markdown",
   "id": "8c042db5",
   "metadata": {},
   "source": [
    "### Making MAR missings in our data"
   ]
  },
  {
   "cell_type": "code",
   "execution_count": null,
   "id": "6d9db887",
   "metadata": {},
   "outputs": [],
   "source": [
    "np.random.seed(110)\n",
    "mask = np.array([[False, False, False, False, False, False, False, True, True, True]])\n",
    "mask = mask.reshape(-1, 1)\n",
    "mask"
   ]
  },
  {
   "cell_type": "code",
   "execution_count": null,
   "id": "6973a127",
   "metadata": {},
   "outputs": [],
   "source": [
    "matrix = np.full((len(fr_ess_subset_2), fr_ess_subset_2.shape[1] - 1), False)\n",
    "\n",
    "matrix_new = np.concatenate((matrix[:, :1], mask, matrix[:, 1:]), axis=1) \n",
    "matrix_new"
   ]
  },
  {
   "cell_type": "code",
   "execution_count": null,
   "id": "542205b5",
   "metadata": {},
   "outputs": [],
   "source": [
    "mask[mask.all(1),-1] = 0\n",
    "\n",
    "fr_ess_subset_2_MAR = fr_ess_subset_2.mask(matrix_new)\n",
    "fr_ess_subset_2_MAR"
   ]
  },
  {
   "cell_type": "markdown",
   "id": "d0f668c5",
   "metadata": {},
   "source": [
    "### Making MNAR missings in our data"
   ]
  },
  {
   "cell_type": "code",
   "execution_count": null,
   "id": "edbd80b0",
   "metadata": {},
   "outputs": [],
   "source": [
    "np.random.seed(120)\n",
    "mask = np.array([[False, False, False, False, False, True, True, True, True, True]])\n",
    "mask = mask.reshape(-1, 1)\n",
    "mask"
   ]
  },
  {
   "cell_type": "code",
   "execution_count": null,
   "id": "8f030a73",
   "metadata": {},
   "outputs": [],
   "source": [
    "matrix = np.full((len(fr_ess_subset_1), fr_ess_subset_1.shape[1] - 1), False)\n",
    "\n",
    "matrix_new = np.concatenate((matrix, mask), axis=1)\n",
    "matrix_new\n"
   ]
  },
  {
   "cell_type": "code",
   "execution_count": null,
   "id": "c67e3934",
   "metadata": {},
   "outputs": [],
   "source": [
    "#mask[mask.all(1),-1] = 0\n",
    "\n",
    "fr_ess_subset_2_MNAR = fr_ess_subset_2.mask(matrix_new)\n",
    "fr_ess_subset_2_MNAR"
   ]
  },
  {
   "cell_type": "markdown",
   "id": "99b38e78",
   "metadata": {},
   "source": [
    "### Generation of matrixes and creation of dataset"
   ]
  },
  {
   "cell_type": "code",
   "execution_count": null,
   "id": "79bc0c33",
   "metadata": {},
   "outputs": [],
   "source": [
    "########### MCAR ###############\n",
    "empty_list = []\n",
    "random_list = [rd.randint(1, 1900) for _ in range(1000)]\n",
    "for n in random_list:\n",
    "    item = fr_ess.iloc[n:n+10,:]\n",
    "    mask = np.random.choice([True, False], size=tuple([len(item), 1]))\n",
    "    matrix = np.full((len(item), item.shape[1] - 1), False)\n",
    "    \n",
    "    number = rd.randint(1, 7)\n",
    "    matrix_new = np.concatenate((matrix[:, :number], mask, matrix[:, number:]), axis=1)\n",
    "    \n",
    "    MCAR_matrix = item.mask(matrix_new)    \n",
    "    print(MCAR_matrix.to_numpy())\n",
    "    empty_list.append([MCAR_matrix.to_numpy(), matrix_new])    \n",
    "    \n"
   ]
  },
  {
   "cell_type": "code",
   "execution_count": null,
   "id": "8dc07b31",
   "metadata": {
    "scrolled": true
   },
   "outputs": [],
   "source": [
    "#here is a dataframe of matrixes with MCAR\n",
    "result_1 = pd.DataFrame(empty_list, columns = ['Yobs', 'Ymis'])\n",
    "result_1"
   ]
  },
  {
   "cell_type": "code",
   "execution_count": null,
   "id": "5239bcbc",
   "metadata": {},
   "outputs": [],
   "source": [
    "result_1['MDM'] = 0 #MCAR = 0\n",
    "result_1"
   ]
  },
  {
   "cell_type": "code",
   "execution_count": null,
   "id": "8fa26706",
   "metadata": {},
   "outputs": [],
   "source": [
    "########### MAR ###############\n",
    "empty_list = []\n",
    "counter = 0\n",
    "random_list = [rd.randint(1, 1900) for _ in range(1000)] #list for subsampling from dataset\n",
    "for n in random_list:\n",
    "    item = fr_ess.iloc[n:n+10,:]\n",
    "    m = rd.randint(0, 6) #random chosing for a column\n",
    "    \n",
    "    #manipulations for threshold\n",
    "    lst = list(fr_ess.iloc[n:n+10,:].iloc[:, m].unique())\n",
    "    if len(lst) > 4:\n",
    "        lst_for_threshold = sorted(lst)[1:-1]\n",
    "    else:\n",
    "        lst_for_threshold = sorted(lst)\n",
    "    \n",
    "    threshold = rd.choice(lst_for_threshold) #depends on variable \n",
    "    probability_missing = [0.8, 0.9, 1.0]  #depends on the case (make random)\n",
    "    \n",
    "    if counter%2 == 0: #changing of > and < sign\n",
    "        item['MissingProbability'] = np.where(item.iloc[:, m] > threshold, rd.choice(probability_missing), 0)\n",
    "        item['MissingProbability_2'] = np.where(item.iloc[:, m] > threshold, 1 - item['MissingProbability'], 1 - item['MissingProbability'])\n",
    "        item['MissingProbability_3'] = item.apply(lambda row: tuple([row['MissingProbability'], row['MissingProbability_2']]), axis=1)\n",
    "    else:\n",
    "        item['MissingProbability'] = np.where(item.iloc[:, m] < threshold, rd.choice(probability_missing), 0)\n",
    "        item['MissingProbability_2'] = np.where(item.iloc[:, m] < threshold, 1 - item['MissingProbability'], 1 - item['MissingProbability'])\n",
    "        item['MissingProbability_3'] = item.apply(lambda row: tuple([row['MissingProbability'], row['MissingProbability_2']]), axis=1)\n",
    "    \n",
    "    item['new'] = item['MissingProbability_3'].apply(lambda row: rd.choices([True, False], weights=row, k=1)[0])\n",
    "    \n",
    "    number = rd.randint(1, 6) #chose a number for a column with missings\n",
    "    while m == number: #check the inequality of number of column with missings and the column which determines the probability of missed data\n",
    "        number = rd.randint(1, 6) \n",
    "       \n",
    "    matrix = np.full((len(item), item.shape[1] - 5), False)\n",
    "    print(matrix)\n",
    "    matrix_new = np.concatenate((matrix[:, :number], item[['new']], matrix[:, number:]), axis=1)\n",
    "    print(matrix_new)\n",
    "    print(\"________________________________\")\n",
    "    \n",
    "    print(item)\n",
    "    \n",
    "    item.iloc[:, number] = np.where(item['new'].to_numpy(), np.nan, item.iloc[:, number])\n",
    "    \n",
    "    print(item)\n",
    "    \n",
    "    MAR_matrix = item.drop(columns=['MissingProbability', 'MissingProbability_2', 'MissingProbability_3', 'new'])\n",
    "    \n",
    "    print(MAR_matrix)\n",
    "    \n",
    "    print(matrix_new)\n",
    " \n",
    "    empty_list.append([MAR_matrix.to_numpy(), matrix_new])    \n",
    "    \n"
   ]
  },
  {
   "cell_type": "code",
   "execution_count": null,
   "id": "96dbaf75",
   "metadata": {},
   "outputs": [],
   "source": [
    "#here is a dataframe of matrixes with MAR\n",
    "result_2 = pd.DataFrame(empty_list, columns = ['Yobs', 'Ymis'])\n",
    "result_2['MDM'] = 1  #MAR = 1\n",
    "result_2"
   ]
  },
  {
   "cell_type": "code",
   "execution_count": null,
   "id": "7400955a",
   "metadata": {},
   "outputs": [],
   "source": [
    "########### MNAR ###############\n",
    "empty_list = []\n",
    "counter = 0\n",
    "random_list = [rd.randint(1, 1900) for _ in range(1000)] #list for subsampling from dataset\n",
    "for n in random_list:\n",
    "    item = fr_ess.iloc[n:n+10,:]\n",
    "    m = rd.randint(1, 6) #random chosing for a column\n",
    "    \n",
    "    #manipulations for threshold\n",
    "    lst = list(fr_ess.iloc[n:n+10,:].iloc[:, m].unique())\n",
    "    if len(lst) > 4:\n",
    "        lst_for_threshold = sorted(lst)[1:-1]\n",
    "    else:\n",
    "        lst_for_threshold = sorted(lst)\n",
    "    \n",
    "    threshold = rd.choice(lst_for_threshold) #depends on variable \n",
    "    probability_missing = [0.8, 0.9, 1.0]  #depends on the case (make random)\n",
    "    \n",
    "    if counter%2 == 0: #changing of > and < sign\n",
    "        item['MissingProbability'] = np.where(item.iloc[:, m] > threshold, rd.choice(probability_missing), 0)\n",
    "        item['MissingProbability_2'] = np.where(item.iloc[:, m] > threshold, 1 - item['MissingProbability'], 1 - item['MissingProbability'])\n",
    "        item['MissingProbability_3'] = item.apply(lambda row: tuple([row['MissingProbability'], row['MissingProbability_2']]), axis=1)\n",
    "    else:\n",
    "        item['MissingProbability'] = np.where(item.iloc[:, m] < threshold, rd.choice(probability_missing), 0)\n",
    "        item['MissingProbability_2'] = np.where(item.iloc[:, m] < threshold, 1 - item['MissingProbability'], 1 - item['MissingProbability'])\n",
    "        item['MissingProbability_3'] = item.apply(lambda row: tuple([row['MissingProbability'], row['MissingProbability_2']]), axis=1)\n",
    "    \n",
    "    item['new'] = item['MissingProbability_3'].apply(lambda row: rd.choices([True, False], weights=row, k=1)[0])\n",
    "    \n",
    "    number = m  #chose a number for a column with missings\n",
    "    \n",
    "    matrix = np.full((len(item), item.shape[1] - 5), False)\n",
    "    matrix_new = np.concatenate((matrix[:, :number], item[['new']], matrix[:, number:]), axis=1)\n",
    "    \n",
    "    item.iloc[:, number] = np.where(item['new'].to_numpy(), np.nan, item.iloc[:, number])\n",
    "    \n",
    "    MAR_matrix = item.drop(columns=['MissingProbability', 'MissingProbability_2', 'MissingProbability_3', 'new'])\n",
    " \n",
    "    empty_list.append([MAR_matrix.to_numpy(), matrix_new])    \n",
    "    \n"
   ]
  },
  {
   "cell_type": "code",
   "execution_count": null,
   "id": "ba2b4802",
   "metadata": {},
   "outputs": [],
   "source": [
    "#here is a dataframe of matrixes with MNAR\n",
    "result_3 = pd.DataFrame(empty_list, columns = ['Yobs', 'Ymis'])\n",
    "result_3['MDM'] = 2  #MNAR = 2\n",
    "result_3"
   ]
  },
  {
   "cell_type": "markdown",
   "id": "2c26fef6",
   "metadata": {},
   "source": [
    "### Final dataframe with three missing data mechanisms"
   ]
  },
  {
   "cell_type": "code",
   "execution_count": null,
   "id": "da5654cd",
   "metadata": {},
   "outputs": [],
   "source": [
    "cnct_df = pd.concat([result_1, result_2, result_3]).reset_index() #result_3\n",
    "cnct_df"
   ]
  }
 ],
 "metadata": {
  "kernelspec": {
   "display_name": "Python 3 (ipykernel)",
   "language": "python",
   "name": "python3"
  },
  "language_info": {
   "codemirror_mode": {
    "name": "ipython",
    "version": 3
   },
   "file_extension": ".py",
   "mimetype": "text/x-python",
   "name": "python",
   "nbconvert_exporter": "python",
   "pygments_lexer": "ipython3",
   "version": "3.11.5"
  }
 },
 "nbformat": 4,
 "nbformat_minor": 5
}
