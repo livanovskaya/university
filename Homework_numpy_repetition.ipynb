{
  "cells": [
    {
      "cell_type": "code",
      "execution_count": null,
      "metadata": {
        "collapsed": true,
        "id": "3QA55_dFwlKx"
      },
      "outputs": [],
      "source": [
        "import numpy as np"
      ]
    },
    {
      "cell_type": "markdown",
      "metadata": {
        "id": "3yozRfxTwlK7"
      },
      "source": [
        "# Numpy repetition homework\n",
        "\n",
        "All items in the task must be done with numpy, without using loops/map/etc!\n",
        "\n",
        "The task is performed independently. It is strictly forbidden to use other people's solutions (even see them), including those posted in open sources (if any). If cheating is detected, a 0 for the task (in the case of cheating from a classmate/fellow student, the same for him/her), as well as a report to the study office. Checking for cheating is done both automatically and manually.\n",
        "\n",
        "### History\n",
        "\n",
        "At the end of each semester, every seminarian is faced with the need to write out the semester's accumulated grade for students. Often seminarians do this with Excel or GoogleSheets, but trust me, there are problems with that. In the assignment, you need to help a seminarian of some course do this tricky job using numpy :)\n",
        "\n",
        "Run the cell below to load the data and visually verify that it reads correctly.\n",
        "\n",
        "The rows are students and the columns are their grades. In the course, the seminarian has given three tests (first three columns), has given three homework papers (next three columns), and students also have a colloquium grade (last column)."
      ]
    },
    {
      "cell_type": "code",
      "execution_count": null,
      "metadata": {
        "collapsed": true,
        "id": "cfuC6fm5wlLB"
      },
      "outputs": [],
      "source": [
        "marks = np.loadtxt(\"https://raw.githubusercontent.com/nadiinchi/iad2019/master/materials/data_hw1.txt\")"
      ]
    },
    {
      "cell_type": "code",
      "execution_count": null,
      "metadata": {
        "colab": {
          "base_uri": "https://localhost:8080/"
        },
        "id": "V6PveWR2wlLC",
        "outputId": "e2d896ee-32c7-44a7-d5c6-93c607d6026d"
      },
      "outputs": [
        {
          "output_type": "execute_result",
          "data": {
            "text/plain": [
              "array([[ 7. ,  8. , 10. ,  0. ,  0. ,  2.1,  1.5],\n",
              "       [ 0. ,  6. ,  4.4,  4. ,  0. ,  5. ,  4.3],\n",
              "       [ 3. ,  7. ,  8.7,  7.6,  7. ,  9.7, 10. ],\n",
              "       [ 3.4,  1.3,  7. ,  3.4,  0. ,  9.4,  9. ],\n",
              "       [ 6.8,  9.1,  8.2,  0. ,  0. ,  7.9,  7.9],\n",
              "       [ 7. , 10. , 10. ,  9. ,  9.5, 10. ,  8. ],\n",
              "       [ 6. , 10. ,  9.7,  8.7,  7. ,  8.5,  9.7],\n",
              "       [ 0. ,  9.3,  5.7,  0. ,  0. ,  0. ,  0. ],\n",
              "       [ 5. , 10. , 10. ,  9.9, 10.5, 10. ,  9. ],\n",
              "       [ 0. ,  8.7,  8. ,  9.7, 10. ,  9.5, 10. ],\n",
              "       [ 3. ,  6.9,  7.9,  0. ,  0. ,  0. ,  0. ],\n",
              "       [ 4. , 10. , 10. ,  9.9,  9.7, 10. ,  9. ],\n",
              "       [ 0. ,  0. ,  0. ,  0. ,  0. ,  0. ,  0. ],\n",
              "       [ 6. ,  5. , 10. ,  9.7, 10. , 10. ,  8. ],\n",
              "       [ 5. , 10. ,  9. ,  7. ,  7.9, 10. ,  9. ],\n",
              "       [ 0. ,  6. ,  7.4,  0. ,  0. ,  0. ,  0. ],\n",
              "       [ 7. , 10. , 10. ,  9.7, 10. , 10. , 10. ],\n",
              "       [ 4.5,  8.7, 10. ,  9.5,  0. ,  0. ,  0. ],\n",
              "       [ 0. ,  0. ,  0. ,  0. ,  0. ,  0. ,  0. ],\n",
              "       [ 0. ,  5.6,  8.7,  0. ,  0. ,  0. ,  0. ],\n",
              "       [ 0. ,  0. ,  0. ,  0. ,  0. ,  0. ,  0. ],\n",
              "       [ 6. , 10. , 10. ,  9.7,  7. , 10. ,  7. ],\n",
              "       [ 6.5,  8.7,  9.5, 10.5,  9.8, 10. , 10. ],\n",
              "       [ 7. ,  9.7, 10. ,  8.1, 10. , 10. ,  9.5],\n",
              "       [ 0. ,  8.3,  9.5,  9.5,  0. ,  0. ,  0. ],\n",
              "       [ 7. ,  7.4,  9. ,  7.7,  0. ,  8.8,  0. ],\n",
              "       [ 3. ,  8.7, 10. ,  9.4, 10.7, 10. ,  9. ],\n",
              "       [ 3.5,  9.3, 10. ,  9.9, 10. , 10. ,  8. ]])"
            ]
          },
          "metadata": {},
          "execution_count": 3
        }
      ],
      "source": [
        "marks"
      ]
    },
    {
      "cell_type": "markdown",
      "metadata": {
        "id": "zsHCmvXrwlLF"
      },
      "source": [
        "\n",
        "\n",
        "### Number of students (0.5 points)\n",
        "How many students are in the seminarian's group?"
      ]
    },
    {
      "cell_type": "code",
      "execution_count": null,
      "metadata": {
        "collapsed": true,
        "id": "FlifX0NwwlLG"
      },
      "outputs": [],
      "source": [
        "num_studs = int(marks.shape[0])"
      ]
    },
    {
      "cell_type": "code",
      "execution_count": null,
      "metadata": {
        "collapsed": true,
        "colab": {
          "base_uri": "https://localhost:8080/"
        },
        "id": "VBJL1kUwwlLH",
        "outputId": "d92d1ec8-abb4-4834-d297-39e01e4f506d"
      },
      "outputs": [
        {
          "output_type": "stream",
          "name": "stdout",
          "text": [
            "28\n"
          ]
        }
      ],
      "source": [
        "print(num_studs)"
      ]
    },
    {
      "cell_type": "markdown",
      "metadata": {
        "id": "MJ7SNZJhwlLH"
      },
      "source": [
        "### A very difficult quiz, or just a good seminarian (1.25 points)\n",
        "The seminarian remembers that the first quiz was a very difficult one, and the maximum score of the group was not 10. So he decided to renormalize the scores for this quiz to the maximum for the group (divide by the maximum and multiply by 10) - so that the student with the maximum score would get a 10, and the rest would just get a higher score."
      ]
    },
    {
      "cell_type": "markdown",
      "metadata": {
        "id": "lkSyHvWYwlLI"
      },
      "source": [
        "What is the maximum score for the first test?"
      ]
    },
    {
      "cell_type": "code",
      "execution_count": null,
      "metadata": {
        "collapsed": true,
        "id": "JYZ3TpAiwlLX"
      },
      "outputs": [],
      "source": [
        "max_mark = np.max(marks[:, :1])"
      ]
    },
    {
      "cell_type": "code",
      "execution_count": null,
      "metadata": {
        "collapsed": true,
        "colab": {
          "base_uri": "https://localhost:8080/"
        },
        "id": "moVD5An2wlLY",
        "outputId": "e7e59cf1-6426-49a0-9c36-139146710976"
      },
      "outputs": [
        {
          "output_type": "stream",
          "name": "stdout",
          "text": [
            "7.0\n"
          ]
        }
      ],
      "source": [
        "print(max_mark)"
      ]
    },
    {
      "cell_type": "markdown",
      "metadata": {
        "id": "ZHnIbwWUwlLZ"
      },
      "source": [
        "Divide the first column by max_mark (to do this, select the column, put an = sign after the corresponding expression, and assign a new column value)"
      ]
    },
    {
      "cell_type": "code",
      "execution_count": null,
      "metadata": {
        "collapsed": true,
        "id": "5GLqkCrawlLa"
      },
      "outputs": [],
      "source": [
        "marks[:,:1] = marks[:,:1] / max_mark"
      ]
    },
    {
      "cell_type": "code",
      "execution_count": null,
      "metadata": {
        "collapsed": true,
        "id": "ZPSTYeeowlLb",
        "colab": {
          "base_uri": "https://localhost:8080/"
        },
        "outputId": "73222910-9d36-44bd-df4c-ed9fce7e68de"
      },
      "outputs": [
        {
          "output_type": "execute_result",
          "data": {
            "text/plain": [
              "array([[1.        ],\n",
              "       [0.        ],\n",
              "       [0.42857143],\n",
              "       [0.48571429],\n",
              "       [0.97142857],\n",
              "       [1.        ],\n",
              "       [0.85714286],\n",
              "       [0.        ],\n",
              "       [0.71428571],\n",
              "       [0.        ],\n",
              "       [0.42857143],\n",
              "       [0.57142857],\n",
              "       [0.        ],\n",
              "       [0.85714286],\n",
              "       [0.71428571],\n",
              "       [0.        ],\n",
              "       [1.        ],\n",
              "       [0.64285714],\n",
              "       [0.        ],\n",
              "       [0.        ],\n",
              "       [0.        ],\n",
              "       [0.85714286],\n",
              "       [0.92857143],\n",
              "       [1.        ],\n",
              "       [0.        ],\n",
              "       [1.        ],\n",
              "       [0.42857143],\n",
              "       [0.5       ]])"
            ]
          },
          "metadata": {},
          "execution_count": 9
        }
      ],
      "source": [
        "marks[:,:1]"
      ]
    },
    {
      "cell_type": "markdown",
      "metadata": {
        "collapsed": true,
        "id": "f_oVp65nwlLb"
      },
      "source": [
        "Again, calculate the maximum score for the first test (now it should be 10):"
      ]
    },
    {
      "cell_type": "code",
      "execution_count": null,
      "metadata": {
        "collapsed": true,
        "id": "uHZ4LoJ7wlLc"
      },
      "outputs": [],
      "source": [
        "marks[:,:1] = marks[:,:1] * 10"
      ]
    },
    {
      "cell_type": "code",
      "source": [
        "marks[:,:1]"
      ],
      "metadata": {
        "colab": {
          "base_uri": "https://localhost:8080/"
        },
        "id": "zpp_HUVk1u34",
        "outputId": "66dfb16f-87e2-49a3-cee0-426ea66f8a39"
      },
      "execution_count": null,
      "outputs": [
        {
          "output_type": "execute_result",
          "data": {
            "text/plain": [
              "array([[10.        ],\n",
              "       [ 0.        ],\n",
              "       [ 4.28571429],\n",
              "       [ 4.85714286],\n",
              "       [ 9.71428571],\n",
              "       [10.        ],\n",
              "       [ 8.57142857],\n",
              "       [ 0.        ],\n",
              "       [ 7.14285714],\n",
              "       [ 0.        ],\n",
              "       [ 4.28571429],\n",
              "       [ 5.71428571],\n",
              "       [ 0.        ],\n",
              "       [ 8.57142857],\n",
              "       [ 7.14285714],\n",
              "       [ 0.        ],\n",
              "       [10.        ],\n",
              "       [ 6.42857143],\n",
              "       [ 0.        ],\n",
              "       [ 0.        ],\n",
              "       [ 0.        ],\n",
              "       [ 8.57142857],\n",
              "       [ 9.28571429],\n",
              "       [10.        ],\n",
              "       [ 0.        ],\n",
              "       [10.        ],\n",
              "       [ 4.28571429],\n",
              "       [ 5.        ]])"
            ]
          },
          "metadata": {},
          "execution_count": 11
        }
      ]
    },
    {
      "cell_type": "markdown",
      "metadata": {
        "id": "5HGO59ngwlLc"
      },
      "source": [
        "### Calculating the cumulative grade (1.25 points)\n",
        "To calculate the cumulative grade, calculate the average of the test grades for each student and the average of the homework grades (np.mean may be helpful). The cumulative grade is 0.3xCheck exams + 0.4xHomework + 0.3xColloquium. Calculate the accumulated scores and add them to the last column of the matrix (you need to add another new column)."
      ]
    },
    {
      "cell_type": "code",
      "execution_count": null,
      "metadata": {
        "collapsed": true,
        "id": "alPfRI2AwlLe"
      },
      "outputs": [],
      "source": [
        "# Weights should be taken from the weights variable, not entered manually\n",
        "weights = [0.3, 0.4, 0.3]"
      ]
    },
    {
      "cell_type": "code",
      "execution_count": null,
      "metadata": {
        "collapsed": true,
        "id": "OT6jPdD5wlLj"
      },
      "outputs": [],
      "source": [
        "q = marks\n",
        "\n",
        "nakop1 = q[:, 6:]*weights[2]\n",
        "y = np.mean(q[:,3:6], axis = 1)\n",
        "z = np.mean(q[:,:3], axis = 1)\n",
        "nakop2 = y*weights[1]\n",
        "nakop2 = nakop2.reshape(-1,1)\n",
        "nakop3 = weights[0]*z\n",
        "nakop3 = nakop3.reshape(-1,1)\n",
        "nakop = nakop1 + nakop2 + nakop3\n",
        "\n",
        "\n"
      ]
    },
    {
      "cell_type": "code",
      "execution_count": null,
      "metadata": {
        "collapsed": true,
        "id": "Gawik1SRwlLk"
      },
      "outputs": [],
      "source": [
        "marks = np.hstack((marks, nakop))"
      ]
    },
    {
      "cell_type": "code",
      "execution_count": null,
      "metadata": {
        "collapsed": true,
        "id": "3M01KSHCwlLl",
        "colab": {
          "base_uri": "https://localhost:8080/"
        },
        "outputId": "212b356d-3f64-4a70-8f05-919414f71a12"
      },
      "outputs": [
        {
          "output_type": "execute_result",
          "data": {
            "text/plain": [
              "array([[10.        ,  8.        , 10.        ,  0.        ,  0.        ,\n",
              "         2.1       ,  1.5       ,  3.53      ],\n",
              "       [ 0.        ,  6.        ,  4.4       ,  4.        ,  0.        ,\n",
              "         5.        ,  4.3       ,  3.53      ],\n",
              "       [ 4.28571429,  7.        ,  8.7       ,  7.6       ,  7.        ,\n",
              "         9.7       , 10.        ,  8.23857143],\n",
              "       [ 4.85714286,  1.3       ,  7.        ,  3.4       ,  0.        ,\n",
              "         9.4       ,  9.        ,  5.72238095],\n",
              "       [ 9.71428571,  9.1       ,  8.2       ,  0.        ,  0.        ,\n",
              "         7.9       ,  7.9       ,  6.1247619 ],\n",
              "       [10.        , 10.        , 10.        ,  9.        ,  9.5       ,\n",
              "        10.        ,  8.        ,  9.2       ],\n",
              "       [ 8.57142857, 10.        ,  9.7       ,  8.7       ,  7.        ,\n",
              "         8.5       ,  9.7       ,  8.96380952],\n",
              "       [ 0.        ,  9.3       ,  5.7       ,  0.        ,  0.        ,\n",
              "         0.        ,  0.        ,  1.5       ],\n",
              "       [ 7.14285714, 10.        , 10.        ,  9.9       , 10.5       ,\n",
              "        10.        ,  9.        ,  9.46761905],\n",
              "       [ 0.        ,  8.7       ,  8.        ,  9.7       , 10.        ,\n",
              "         9.5       , 10.        ,  8.56333333],\n",
              "       [ 4.28571429,  6.9       ,  7.9       ,  0.        ,  0.        ,\n",
              "         0.        ,  0.        ,  1.90857143],\n",
              "       [ 5.71428571, 10.        , 10.        ,  9.9       ,  9.7       ,\n",
              "        10.        ,  9.        ,  9.21809524],\n",
              "       [ 0.        ,  0.        ,  0.        ,  0.        ,  0.        ,\n",
              "         0.        ,  0.        ,  0.        ],\n",
              "       [ 8.57142857,  5.        , 10.        ,  9.7       , 10.        ,\n",
              "        10.        ,  8.        ,  8.71714286],\n",
              "       [ 7.14285714, 10.        ,  9.        ,  7.        ,  7.9       ,\n",
              "        10.        ,  9.        ,  8.63428571],\n",
              "       [ 0.        ,  6.        ,  7.4       ,  0.        ,  0.        ,\n",
              "         0.        ,  0.        ,  1.34      ],\n",
              "       [10.        , 10.        , 10.        ,  9.7       , 10.        ,\n",
              "        10.        , 10.        ,  9.96      ],\n",
              "       [ 6.42857143,  8.7       , 10.        ,  9.5       ,  0.        ,\n",
              "         0.        ,  0.        ,  3.77952381],\n",
              "       [ 0.        ,  0.        ,  0.        ,  0.        ,  0.        ,\n",
              "         0.        ,  0.        ,  0.        ],\n",
              "       [ 0.        ,  5.6       ,  8.7       ,  0.        ,  0.        ,\n",
              "         0.        ,  0.        ,  1.43      ],\n",
              "       [ 0.        ,  0.        ,  0.        ,  0.        ,  0.        ,\n",
              "         0.        ,  0.        ,  0.        ],\n",
              "       [ 8.57142857, 10.        , 10.        ,  9.7       ,  7.        ,\n",
              "        10.        ,  7.        ,  8.51714286],\n",
              "       [ 9.28571429,  8.7       ,  9.5       , 10.5       ,  9.8       ,\n",
              "        10.        , 10.        ,  9.78857143],\n",
              "       [10.        ,  9.7       , 10.        ,  8.1       , 10.        ,\n",
              "        10.        ,  9.5       ,  9.56666667],\n",
              "       [ 0.        ,  8.3       ,  9.5       ,  9.5       ,  0.        ,\n",
              "         0.        ,  0.        ,  3.04666667],\n",
              "       [10.        ,  7.4       ,  9.        ,  7.7       ,  0.        ,\n",
              "         8.8       ,  0.        ,  4.84      ],\n",
              "       [ 4.28571429,  8.7       , 10.        ,  9.4       , 10.7       ,\n",
              "        10.        ,  9.        ,  9.01190476],\n",
              "       [ 5.        ,  9.3       , 10.        ,  9.9       , 10.        ,\n",
              "        10.        ,  8.        ,  8.81666667]])"
            ]
          },
          "metadata": {},
          "execution_count": 15
        }
      ],
      "source": [
        "marks"
      ]
    },
    {
      "cell_type": "markdown",
      "metadata": {
        "id": "giuwtFvCwlLl"
      },
      "source": [
        "### Students likely to be expelled (1.25 points)"
      ]
    },
    {
      "cell_type": "markdown",
      "metadata": {
        "id": "PLlg4pOtwlLm"
      },
      "source": [
        "How many students in the group have an accumulated grade of 0? You may need the fact that applying np.sum to a binary vector gives the number of True values in it, for example:"
      ]
    },
    {
      "cell_type": "code",
      "execution_count": null,
      "metadata": {
        "id": "EVkoEM_vwlLn",
        "outputId": "bbe2f2ef-9dde-4401-d0de-d2a1d488486c"
      },
      "outputs": [
        {
          "data": {
            "text/plain": [
              "2"
            ]
          },
          "execution_count": 35,
          "metadata": {},
          "output_type": "execute_result"
        }
      ],
      "source": [
        "np.sum([True, False, True])"
      ]
    },
    {
      "cell_type": "markdown",
      "metadata": {
        "collapsed": true,
        "id": "N_nYcFOPwlLo"
      },
      "source": [
        "Also note the element-by-element comparison operation, which returns an array of True and False:"
      ]
    },
    {
      "cell_type": "code",
      "execution_count": null,
      "metadata": {
        "id": "7Cj2ieXywlLp",
        "outputId": "b132e2b5-e42d-4b5b-be4d-b9d26ee76d2a",
        "colab": {
          "base_uri": "https://localhost:8080/"
        }
      },
      "outputs": [
        {
          "output_type": "stream",
          "name": "stdout",
          "text": [
            "[False False  True]\n",
            "[False False False]\n"
          ]
        }
      ],
      "source": [
        "a = np.array([1, 2, 3])\n",
        "b = np.array([2, 3, 3])\n",
        "print(a == b)\n",
        "print(a > b)"
      ]
    },
    {
      "cell_type": "code",
      "execution_count": null,
      "metadata": {
        "collapsed": true,
        "id": "biY_pFkbwlLq",
        "colab": {
          "base_uri": "https://localhost:8080/"
        },
        "outputId": "69bd6727-f88a-4fd3-a89d-b908e594da9f"
      },
      "outputs": [
        {
          "output_type": "stream",
          "name": "stdout",
          "text": [
            "3\n"
          ]
        }
      ],
      "source": [
        "mask = marks[:, 7:] == 0\n",
        "print(np.sum(mask))"
      ]
    },
    {
      "cell_type": "code",
      "execution_count": null,
      "metadata": {
        "collapsed": true,
        "id": "t92w11L2wlLq"
      },
      "outputs": [],
      "source": []
    },
    {
      "cell_type": "code",
      "execution_count": null,
      "metadata": {
        "collapsed": true,
        "id": "pyp4NuRhwlLr"
      },
      "outputs": [],
      "source": []
    },
    {
      "cell_type": "markdown",
      "metadata": {
        "id": "Qagl-1aowlLs"
      },
      "source": [
        "### Students who will not pass the exams (1.25 points)\n",
        "Students who have an accumulated grade greater than 7 will not pass the exams. Add another column - it says 1 if the student don't pass the exams, and 0 otherwise."
      ]
    },
    {
      "cell_type": "code",
      "execution_count": null,
      "metadata": {
        "collapsed": true,
        "id": "zzbT8zUowlL1",
        "colab": {
          "base_uri": "https://localhost:8080/"
        },
        "outputId": "18e329cc-bb1d-4915-b784-0c2304043cef"
      },
      "outputs": [
        {
          "output_type": "execute_result",
          "data": {
            "text/plain": [
              "array([[10.        ,  8.        , 10.        ,  0.        ,  0.        ,\n",
              "         2.1       ,  1.5       ,  3.53      ,  0.        ],\n",
              "       [ 0.        ,  6.        ,  4.4       ,  4.        ,  0.        ,\n",
              "         5.        ,  4.3       ,  3.53      ,  0.        ],\n",
              "       [ 4.28571429,  7.        ,  8.7       ,  7.6       ,  7.        ,\n",
              "         9.7       , 10.        ,  8.23857143,  1.        ],\n",
              "       [ 4.85714286,  1.3       ,  7.        ,  3.4       ,  0.        ,\n",
              "         9.4       ,  9.        ,  5.72238095,  0.        ],\n",
              "       [ 9.71428571,  9.1       ,  8.2       ,  0.        ,  0.        ,\n",
              "         7.9       ,  7.9       ,  6.1247619 ,  0.        ],\n",
              "       [10.        , 10.        , 10.        ,  9.        ,  9.5       ,\n",
              "        10.        ,  8.        ,  9.2       ,  1.        ],\n",
              "       [ 8.57142857, 10.        ,  9.7       ,  8.7       ,  7.        ,\n",
              "         8.5       ,  9.7       ,  8.96380952,  1.        ],\n",
              "       [ 0.        ,  9.3       ,  5.7       ,  0.        ,  0.        ,\n",
              "         0.        ,  0.        ,  1.5       ,  0.        ],\n",
              "       [ 7.14285714, 10.        , 10.        ,  9.9       , 10.5       ,\n",
              "        10.        ,  9.        ,  9.46761905,  1.        ],\n",
              "       [ 0.        ,  8.7       ,  8.        ,  9.7       , 10.        ,\n",
              "         9.5       , 10.        ,  8.56333333,  1.        ],\n",
              "       [ 4.28571429,  6.9       ,  7.9       ,  0.        ,  0.        ,\n",
              "         0.        ,  0.        ,  1.90857143,  0.        ],\n",
              "       [ 5.71428571, 10.        , 10.        ,  9.9       ,  9.7       ,\n",
              "        10.        ,  9.        ,  9.21809524,  1.        ],\n",
              "       [ 0.        ,  0.        ,  0.        ,  0.        ,  0.        ,\n",
              "         0.        ,  0.        ,  0.        ,  0.        ],\n",
              "       [ 8.57142857,  5.        , 10.        ,  9.7       , 10.        ,\n",
              "        10.        ,  8.        ,  8.71714286,  1.        ],\n",
              "       [ 7.14285714, 10.        ,  9.        ,  7.        ,  7.9       ,\n",
              "        10.        ,  9.        ,  8.63428571,  1.        ],\n",
              "       [ 0.        ,  6.        ,  7.4       ,  0.        ,  0.        ,\n",
              "         0.        ,  0.        ,  1.34      ,  0.        ],\n",
              "       [10.        , 10.        , 10.        ,  9.7       , 10.        ,\n",
              "        10.        , 10.        ,  9.96      ,  1.        ],\n",
              "       [ 6.42857143,  8.7       , 10.        ,  9.5       ,  0.        ,\n",
              "         0.        ,  0.        ,  3.77952381,  0.        ],\n",
              "       [ 0.        ,  0.        ,  0.        ,  0.        ,  0.        ,\n",
              "         0.        ,  0.        ,  0.        ,  0.        ],\n",
              "       [ 0.        ,  5.6       ,  8.7       ,  0.        ,  0.        ,\n",
              "         0.        ,  0.        ,  1.43      ,  0.        ],\n",
              "       [ 0.        ,  0.        ,  0.        ,  0.        ,  0.        ,\n",
              "         0.        ,  0.        ,  0.        ,  0.        ],\n",
              "       [ 8.57142857, 10.        , 10.        ,  9.7       ,  7.        ,\n",
              "        10.        ,  7.        ,  8.51714286,  1.        ],\n",
              "       [ 9.28571429,  8.7       ,  9.5       , 10.5       ,  9.8       ,\n",
              "        10.        , 10.        ,  9.78857143,  1.        ],\n",
              "       [10.        ,  9.7       , 10.        ,  8.1       , 10.        ,\n",
              "        10.        ,  9.5       ,  9.56666667,  1.        ],\n",
              "       [ 0.        ,  8.3       ,  9.5       ,  9.5       ,  0.        ,\n",
              "         0.        ,  0.        ,  3.04666667,  0.        ],\n",
              "       [10.        ,  7.4       ,  9.        ,  7.7       ,  0.        ,\n",
              "         8.8       ,  0.        ,  4.84      ,  0.        ],\n",
              "       [ 4.28571429,  8.7       , 10.        ,  9.4       , 10.7       ,\n",
              "        10.        ,  9.        ,  9.01190476,  1.        ],\n",
              "       [ 5.        ,  9.3       , 10.        ,  9.9       , 10.        ,\n",
              "        10.        ,  8.        ,  8.81666667,  1.        ]])"
            ]
          },
          "metadata": {},
          "execution_count": 18
        }
      ],
      "source": [
        "mask2 = marks[:,7:]>7\n",
        "mask2 = mask2.astype(int)\n",
        "marks = np.hstack((marks, mask2))\n",
        "marks"
      ]
    },
    {
      "cell_type": "code",
      "execution_count": null,
      "metadata": {
        "collapsed": true,
        "id": "7O6uoFwewlL2"
      },
      "outputs": [],
      "source": []
    },
    {
      "cell_type": "code",
      "execution_count": null,
      "metadata": {
        "collapsed": true,
        "id": "IT7ao5WFwlL2"
      },
      "outputs": [],
      "source": []
    },
    {
      "cell_type": "markdown",
      "metadata": {
        "id": "YjXTXOHdwlL3"
      },
      "source": [
        "### Students who will be exempt from problems on the exam (1.25 points)\n",
        "The seminarian has decided that the first half of the group in the cumulative grade rating will be exempt from problem solving on the exam. Separate these students into a separate array. To do this, sort the rows of the array (np.argsort) and take the first half."
      ]
    },
    {
      "cell_type": "code",
      "execution_count": null,
      "metadata": {
        "collapsed": true,
        "id": "jFnZfxDkwlL4",
        "colab": {
          "base_uri": "https://localhost:8080/"
        },
        "outputId": "06ca8de8-8cd9-467c-fbfb-f815de7eca77"
      },
      "outputs": [
        {
          "output_type": "execute_result",
          "data": {
            "text/plain": [
              "array([[16],\n",
              "       [22],\n",
              "       [23],\n",
              "       [ 8],\n",
              "       [11],\n",
              "       [ 5],\n",
              "       [26],\n",
              "       [ 6],\n",
              "       [27],\n",
              "       [13],\n",
              "       [14],\n",
              "       [ 9],\n",
              "       [21],\n",
              "       [ 2]])"
            ]
          },
          "metadata": {},
          "execution_count": 19
        }
      ],
      "source": [
        "sortirovka = np.argsort(marks[:,7:8], axis = 0)\n",
        "s = marks[sortirovka]\n",
        "avtomaty = sortirovka[int(sortirovka.shape[0])//2:]\n",
        "avtomaty2 = np.flipud(avtomaty)\n",
        "avtomaty2"
      ]
    },
    {
      "cell_type": "code",
      "execution_count": null,
      "metadata": {
        "collapsed": true,
        "id": "5xTAA9SHwlL4",
        "colab": {
          "base_uri": "https://localhost:8080/"
        },
        "outputId": "8f8aa8f3-3249-463f-d00a-7833cefeda47"
      },
      "outputs": [
        {
          "output_type": "execute_result",
          "data": {
            "text/plain": [
              "array([[[ 4.28571429,  7.        ,  8.7       ,  7.6       ,\n",
              "          7.        ,  9.7       , 10.        ,  8.23857143,\n",
              "          1.        ]],\n",
              "\n",
              "       [[ 8.57142857, 10.        , 10.        ,  9.7       ,\n",
              "          7.        , 10.        ,  7.        ,  8.51714286,\n",
              "          1.        ]],\n",
              "\n",
              "       [[ 0.        ,  8.7       ,  8.        ,  9.7       ,\n",
              "         10.        ,  9.5       , 10.        ,  8.56333333,\n",
              "          1.        ]],\n",
              "\n",
              "       [[ 7.14285714, 10.        ,  9.        ,  7.        ,\n",
              "          7.9       , 10.        ,  9.        ,  8.63428571,\n",
              "          1.        ]],\n",
              "\n",
              "       [[ 8.57142857,  5.        , 10.        ,  9.7       ,\n",
              "         10.        , 10.        ,  8.        ,  8.71714286,\n",
              "          1.        ]],\n",
              "\n",
              "       [[ 5.        ,  9.3       , 10.        ,  9.9       ,\n",
              "         10.        , 10.        ,  8.        ,  8.81666667,\n",
              "          1.        ]],\n",
              "\n",
              "       [[ 8.57142857, 10.        ,  9.7       ,  8.7       ,\n",
              "          7.        ,  8.5       ,  9.7       ,  8.96380952,\n",
              "          1.        ]],\n",
              "\n",
              "       [[ 4.28571429,  8.7       , 10.        ,  9.4       ,\n",
              "         10.7       , 10.        ,  9.        ,  9.01190476,\n",
              "          1.        ]],\n",
              "\n",
              "       [[10.        , 10.        , 10.        ,  9.        ,\n",
              "          9.5       , 10.        ,  8.        ,  9.2       ,\n",
              "          1.        ]],\n",
              "\n",
              "       [[ 5.71428571, 10.        , 10.        ,  9.9       ,\n",
              "          9.7       , 10.        ,  9.        ,  9.21809524,\n",
              "          1.        ]],\n",
              "\n",
              "       [[ 7.14285714, 10.        , 10.        ,  9.9       ,\n",
              "         10.5       , 10.        ,  9.        ,  9.46761905,\n",
              "          1.        ]],\n",
              "\n",
              "       [[10.        ,  9.7       , 10.        ,  8.1       ,\n",
              "         10.        , 10.        ,  9.5       ,  9.56666667,\n",
              "          1.        ]],\n",
              "\n",
              "       [[ 9.28571429,  8.7       ,  9.5       , 10.5       ,\n",
              "          9.8       , 10.        , 10.        ,  9.78857143,\n",
              "          1.        ]],\n",
              "\n",
              "       [[10.        , 10.        , 10.        ,  9.7       ,\n",
              "         10.        , 10.        , 10.        ,  9.96      ,\n",
              "          1.        ]]])"
            ]
          },
          "metadata": {},
          "execution_count": 109
        }
      ],
      "source": [
        "\n",
        "\n"
      ]
    },
    {
      "cell_type": "code",
      "execution_count": null,
      "metadata": {
        "collapsed": true,
        "id": "gQ-zU5iBwlL5"
      },
      "outputs": [],
      "source": []
    },
    {
      "cell_type": "markdown",
      "metadata": {
        "id": "RsbJka36wlL5"
      },
      "source": [
        "### Difficulty of assignments (1.25 points)\n",
        "After grading, the seminarian needs to decide how to improve the course next year. The seminarian wants to grade the difficulty of assignments, tests, and colloquia using his particular system. He has assigned each student a weight (the weights add up to 1) and wants to calculate for each assignment, quiz, and colloquium the average grade with the weights.\n",
        "An example of what is meant: if there are 4 students with weights [0.1, 0.2, 0.3, 0.4] and grades [3, 7, 9, 10], then the average grade for the assignment with weights is"
      ]
    },
    {
      "cell_type": "code",
      "execution_count": null,
      "metadata": {
        "id": "uw3bjk7hwlL6",
        "outputId": "909f310e-c920-42f2-f169-9bd499fe552b"
      },
      "outputs": [
        {
          "data": {
            "text/plain": [
              "8.4"
            ]
          },
          "execution_count": 37,
          "metadata": {},
          "output_type": "execute_result"
        }
      ],
      "source": [
        "0.1 * 3 + 0.2 * 7 + 0.3 * 9 + 0.4 * 10 "
      ]
    },
    {
      "cell_type": "markdown",
      "metadata": {
        "id": "y76w3hcuwlL7"
      },
      "source": [
        "weights:"
      ]
    },
    {
      "cell_type": "code",
      "execution_count": null,
      "metadata": {
        "collapsed": true,
        "id": "mSW5AQgowlL8",
        "colab": {
          "base_uri": "https://localhost:8080/"
        },
        "outputId": "3741adcc-6044-4d25-9a6e-6629754a68ac"
      },
      "outputs": [
        {
          "output_type": "execute_result",
          "data": {
            "text/plain": [
              "array([0.01315789, 0.01315789, 0.01315789, 0.01315789, 0.01315789,\n",
              "       0.01315789, 0.01315789, 0.02631579, 0.02631579, 0.02631579,\n",
              "       0.02631579, 0.03947368, 0.03947368, 0.03947368, 0.03947368,\n",
              "       0.03947368, 0.03947368, 0.03947368, 0.05263158, 0.05263158,\n",
              "       0.05263158, 0.05263158, 0.05263158, 0.05263158, 0.05263158,\n",
              "       0.05263158, 0.05263158, 0.05263158])"
            ]
          },
          "metadata": {},
          "execution_count": 20
        }
      ],
      "source": [
        "weights = np.array([1.]*7+[2.]*4+[3.]*7+[4.]*(marks.shape[0]-18))\n",
        "# divide the weights by their sum so that they add up to 1\n",
        "weights = weights/np.sum(weights)\n",
        "weights\n"
      ]
    },
    {
      "cell_type": "markdown",
      "metadata": {
        "id": "BLfC-ytrwlL9"
      },
      "source": [
        "\n",
        "Calculate the complexity of each \"column\" in the same way."
      ]
    },
    {
      "cell_type": "code",
      "execution_count": null,
      "metadata": {
        "collapsed": true,
        "id": "Yf0vxOtEwlL9",
        "colab": {
          "base_uri": "https://localhost:8080/"
        },
        "outputId": "99d68f7c-beaa-44d5-896c-ec299dc67a41"
      },
      "outputs": [
        {
          "output_type": "execute_result",
          "data": {
            "text/plain": [
              "array([[0.13157895, 0.10526316, 0.13157895, 0.        , 0.        ,\n",
              "        0.02763158, 0.01973684],\n",
              "       [0.        , 0.07894737, 0.05789474, 0.05263158, 0.        ,\n",
              "        0.06578947, 0.05657895],\n",
              "       [0.05639098, 0.09210526, 0.11447368, 0.1       , 0.09210526,\n",
              "        0.12763158, 0.13157895],\n",
              "       [0.06390977, 0.01710526, 0.09210526, 0.04473684, 0.        ,\n",
              "        0.12368421, 0.11842105],\n",
              "       [0.12781955, 0.11973684, 0.10789474, 0.        , 0.        ,\n",
              "        0.10394737, 0.10394737],\n",
              "       [0.13157895, 0.13157895, 0.13157895, 0.11842105, 0.125     ,\n",
              "        0.13157895, 0.10526316],\n",
              "       [0.11278195, 0.13157895, 0.12763158, 0.11447368, 0.09210526,\n",
              "        0.11184211, 0.12763158],\n",
              "       [0.        , 0.24473684, 0.15      , 0.        , 0.        ,\n",
              "        0.        , 0.        ],\n",
              "       [0.18796992, 0.26315789, 0.26315789, 0.26052632, 0.27631579,\n",
              "        0.26315789, 0.23684211],\n",
              "       [0.        , 0.22894737, 0.21052632, 0.25526316, 0.26315789,\n",
              "        0.25      , 0.26315789],\n",
              "       [0.11278195, 0.18157895, 0.20789474, 0.        , 0.        ,\n",
              "        0.        , 0.        ],\n",
              "       [0.22556391, 0.39473684, 0.39473684, 0.39078947, 0.38289474,\n",
              "        0.39473684, 0.35526316],\n",
              "       [0.        , 0.        , 0.        , 0.        , 0.        ,\n",
              "        0.        , 0.        ],\n",
              "       [0.33834586, 0.19736842, 0.39473684, 0.38289474, 0.39473684,\n",
              "        0.39473684, 0.31578947],\n",
              "       [0.28195489, 0.39473684, 0.35526316, 0.27631579, 0.31184211,\n",
              "        0.39473684, 0.35526316],\n",
              "       [0.        , 0.23684211, 0.29210526, 0.        , 0.        ,\n",
              "        0.        , 0.        ],\n",
              "       [0.39473684, 0.39473684, 0.39473684, 0.38289474, 0.39473684,\n",
              "        0.39473684, 0.39473684],\n",
              "       [0.2537594 , 0.34342105, 0.39473684, 0.375     , 0.        ,\n",
              "        0.        , 0.        ],\n",
              "       [0.        , 0.        , 0.        , 0.        , 0.        ,\n",
              "        0.        , 0.        ],\n",
              "       [0.        , 0.29473684, 0.45789474, 0.        , 0.        ,\n",
              "        0.        , 0.        ],\n",
              "       [0.        , 0.        , 0.        , 0.        , 0.        ,\n",
              "        0.        , 0.        ],\n",
              "       [0.45112782, 0.52631579, 0.52631579, 0.51052632, 0.36842105,\n",
              "        0.52631579, 0.36842105],\n",
              "       [0.4887218 , 0.45789474, 0.5       , 0.55263158, 0.51578947,\n",
              "        0.52631579, 0.52631579],\n",
              "       [0.52631579, 0.51052632, 0.52631579, 0.42631579, 0.52631579,\n",
              "        0.52631579, 0.5       ],\n",
              "       [0.        , 0.43684211, 0.5       , 0.5       , 0.        ,\n",
              "        0.        , 0.        ],\n",
              "       [0.52631579, 0.38947368, 0.47368421, 0.40526316, 0.        ,\n",
              "        0.46315789, 0.        ],\n",
              "       [0.22556391, 0.45789474, 0.52631579, 0.49473684, 0.56315789,\n",
              "        0.52631579, 0.47368421],\n",
              "       [0.26315789, 0.48947368, 0.52631579, 0.52105263, 0.52631579,\n",
              "        0.52631579, 0.42105263]])"
            ]
          },
          "metadata": {},
          "execution_count": 24
        }
      ],
      "source": [
        "k = weights[:, np.newaxis]\n",
        "newmarks = marks[:, :7] * k\n",
        "newmarks"
      ]
    },
    {
      "cell_type": "code",
      "execution_count": null,
      "metadata": {
        "collapsed": true,
        "id": "82JcXT9qwlL-",
        "colab": {
          "base_uri": "https://localhost:8080/"
        },
        "outputId": "eafe47de-156e-4dfc-f2f1-72c438d909f9"
      },
      "outputs": [
        {
          "output_type": "stream",
          "name": "stdout",
          "text": [
            "[4.90037594 7.11973684 7.85789474 6.16447368 4.83289474 5.87894737\n",
            " 4.87368421]\n"
          ]
        }
      ],
      "source": [
        "sloznost = np.sum(newmarks, axis = 0)\n",
        "print(sloznost)"
      ]
    },
    {
      "cell_type": "code",
      "execution_count": null,
      "metadata": {
        "collapsed": true,
        "id": "OLQTjRbvwlL-"
      },
      "outputs": [],
      "source": []
    },
    {
      "cell_type": "markdown",
      "metadata": {
        "id": "H2i7J_YKwlL-"
      },
      "source": [
        "### Data visualization (2=1.5+0.5 points)\n",
        "Finally, the seminarian decided to visualize the grades. Make three scatter plots, each with the y-axis representing the student's cumulative grade (you calculated it above), and the x-axis representing the average grade for tests on one plot, the second for homework, and the third for the colloquium. Be sure to sign the graphs and axes!"
      ]
    },
    {
      "cell_type": "code",
      "execution_count": null,
      "metadata": {
        "collapsed": true,
        "id": "fP0mKhzcwlL_"
      },
      "outputs": [],
      "source": [
        "from matplotlib import pyplot as plt\n",
        "%matplotlib inline\n",
        "# other libraries cannot be used"
      ]
    },
    {
      "cell_type": "code",
      "execution_count": null,
      "metadata": {
        "collapsed": true,
        "id": "-vdXAe5ewlMA",
        "colab": {
          "base_uri": "https://localhost:8080/",
          "height": 312
        },
        "outputId": "d6934aff-9f8c-42d2-d63e-d178b1b273ef"
      },
      "outputs": [
        {
          "output_type": "execute_result",
          "data": {
            "text/plain": [
              "Text(0.5, 1.0, 'Корреляционное поле для средних оценок за проверочные работы и накопленных оценок студентов')"
            ]
          },
          "metadata": {},
          "execution_count": 28
        },
        {
          "output_type": "display_data",
          "data": {
            "image/png": "[encoded data removed]",
            "text/plain": [
              "<Figure size 432x288 with 1 Axes>"
            ]
          },
          "metadata": {
            "needs_background": "light"
          }
        }
      ],
      "source": [
        "xs1 = np.mean(q[:,:3], axis = 1)\n",
        "ys = nakop\n",
        "plt.scatter(xs1, ys)\n",
        "plt.xlabel(\"Average grade for the tests\")\n",
        "plt.ylabel(\"Accumulated score\")\n",
        "plt.title(\"Correlation field for average test scores and cumulative grades of students\")\n"
      ]
    },
    {
      "cell_type": "code",
      "source": [
        "xs2 = np.mean(q[:,3:6], axis = 1)\n",
        "ys = nakop\n",
        "plt.scatter(xs2, ys)\n",
        "plt.xlabel(\"Average grade for homework\")\n",
        "plt.ylabel(\"Accumulated score\")\n",
        "plt.title(\"Correlation field for average grades for homework and accumulated student grades\")"
      ],
      "metadata": {
        "colab": {
          "base_uri": "https://localhost:8080/",
          "height": 312
        },
        "id": "9Z_akacPV86s",
        "outputId": "aac0c61e-2338-4f6e-e377-945dff056a27"
      },
      "execution_count": null,
      "outputs": [
        {
          "output_type": "execute_result",
          "data": {
            "text/plain": [
              "Text(0.5, 1.0, 'Корреляционное поле для средних оценок за домашние работы и накопленных оценок студентов')"
            ]
          },
          "metadata": {},
          "execution_count": 29
        },
        {
          "output_type": "display_data",
          "data": {
            "image/png": "[encoded data removed]",
            "text/plain": [
              "<Figure size 432x288 with 1 Axes>"
            ]
          },
          "metadata": {
            "needs_background": "light"
          }
        }
      ]
    },
    {
      "cell_type": "code",
      "source": [
        "xs3 = q[:, 6:7]\n",
        "ys = nakop\n",
        "plt.scatter(xs3, ys)\n",
        "plt.xlabel(\"Colloquium grade\")\n",
        "plt.ylabel(\"Accumulated score\")\n",
        "plt.title(\"Correlation field for average grades for the colloquium and cumulative grades of students\")"
      ],
      "metadata": {
        "colab": {
          "base_uri": "https://localhost:8080/",
          "height": 312
        },
        "id": "QMb5DgA0WEQ-",
        "outputId": "64a4ae38-a867-45db-cfe6-6d8bfb53c03b"
      },
      "execution_count": null,
      "outputs": [
        {
          "output_type": "execute_result",
          "data": {
            "text/plain": [
              "Text(0.5, 1.0, 'Корреляционное поле для средних оценок за коллоквиум и накопленных оценок студентов')"
            ]
          },
          "metadata": {},
          "execution_count": 30
        },
        {
          "output_type": "display_data",
          "data": {
            "image/png": "[encoded data removed]",
            "text/plain": [
              "<Figure size 432x288 with 1 Axes>"
            ]
          },
          "metadata": {
            "needs_background": "light"
          }
        }
      ]
    },
    {
      "cell_type": "markdown",
      "metadata": {
        "id": "UEzgXTAOwlMD"
      },
      "source": [
        "On a separate graph, visualize the sorted accumulated scores: sort the column with the function np.sort, expand it from left to right (so that the scores are sorted in descending order), and visualize it with the function plt.plot. Again, don't forget to sign the axes!"
      ]
    },
    {
      "cell_type": "code",
      "execution_count": null,
      "metadata": {
        "id": "4e8o8ffTwlMD",
        "colab": {
          "base_uri": "https://localhost:8080/",
          "height": 312
        },
        "outputId": "cb018e95-55b1-40e4-f71c-c3b2fef5f9a2"
      },
      "outputs": [
        {
          "output_type": "execute_result",
          "data": {
            "text/plain": [
              "Text(0.5, 1.0, 'График, иллюстрирующий динамику накопленных оценок')"
            ]
          },
          "metadata": {},
          "execution_count": 88
        },
        {
          "output_type": "display_data",
          "data": {
            "image/png": "[encoded data removed]",
            "text/plain": [
              "<Figure size 432x288 with 1 Axes>"
            ]
          },
          "metadata": {
            "needs_background": "light"
          }
        }
      ],
      "source": [
        "sorted_nakop = np.sort(nakop.reshape(1,-1))\n",
        "yy = list(np.flip(sorted_nakop)[:1])[0]\n",
        "xx = np.linspace(1, 28, 28)\n",
        "plt.plot(xx,yy)\n",
        "plt.ylabel(\"Accumulated score\")\n",
        "plt.xlabel(\"A student's serial number from 1 to 28 (where 1 is the student with the highest score)\")\n",
        "plt.title(\"The graph illustrating the dynamics of accumulated grades\")"
      ]
    },
    {
      "cell_type": "code",
      "source": [],
      "metadata": {
        "id": "G4D2VlEmZ_FI"
      },
      "execution_count": null,
      "outputs": []
    }
  ],
  "metadata": {
    "kernelspec": {
      "display_name": "Python 3",
      "language": "python",
      "name": "python3"
    },
    "language_info": {
      "codemirror_mode": {
        "name": "ipython",
        "version": 3
      },
      "file_extension": ".py",
      "mimetype": "text/x-python",
      "name": "python",
      "nbconvert_exporter": "python",
      "pygments_lexer": "ipython3",
      "version": "3.6.3"
    },
    "colab": {
      "provenance": []
    }
  },
  "nbformat": 4,
  "nbformat_minor": 0
}