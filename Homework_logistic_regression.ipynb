{
  "cells": [
    {
      "cell_type": "markdown",
      "metadata": {
        "id": "BjjbX8LNLWlv"
      },
      "source": [
        "# Classification of sms messages"
      ]
    },
    {
      "cell_type": "code",
      "execution_count": null,
      "metadata": {
        "id": "tGbFyZVTLWlx"
      },
      "outputs": [],
      "source": [
        "%matplotlib inline"
      ]
    },
    {
      "cell_type": "markdown",
      "metadata": {
        "id": "9VKyrMOvLWly"
      },
      "source": [
        "In this task we will use the SMS Spam collection data from the UCI repository.\n",
        "The data file is located [at the link](https://archive.ics.uci.edu/ml/machine-learning-databases/00228/), download and unzip it."
      ]
    },
    {
      "cell_type": "markdown",
      "metadata": {
        "id": "EDgvIi3JLWlz"
      },
      "source": [
        "### Downloading, visualization and preliminary analysis of data"
      ]
    },
    {
      "cell_type": "code",
      "execution_count": null,
      "metadata": {
        "id": "OImBMT76LWlz"
      },
      "outputs": [],
      "source": [
        "import pandas as pd"
      ]
    },
    {
      "cell_type": "code",
      "execution_count": null,
      "metadata": {
        "id": "tgZRaAWMLWlz"
      },
      "outputs": [],
      "source": [
        "data = pd.read_csv(\"SMSSpamCollection\", \\\n",
        "                  sep=\"\\t\", \\\n",
        "                  header=None,\\\n",
        "                  names=[\"label\", \"sms\"])"
      ]
    },
    {
      "cell_type": "markdown",
      "metadata": {
        "id": "mTbtj1GcLWlz"
      },
      "source": [
        "Let's look at the first ten lines:"
      ]
    },
    {
      "cell_type": "code",
      "execution_count": null,
      "metadata": {
        "id": "woXoZDAmLWlz",
        "outputId": "d7ad6d0d-dece-4346-de09-0ac0ce5b89f4"
      },
      "outputs": [
        {
          "data": {
            "text/html": [
              "<div>\n",
              "<style scoped>\n",
              "    .dataframe tbody tr th:only-of-type {\n",
              "        vertical-align: middle;\n",
              "    }\n",
              "\n",
              "    .dataframe tbody tr th {\n",
              "        vertical-align: top;\n",
              "    }\n",
              "\n",
              "    .dataframe thead th {\n",
              "        text-align: right;\n",
              "    }\n",
              "</style>\n",
              "<table border=\"1\" class=\"dataframe\">\n",
              "  <thead>\n",
              "    <tr style=\"text-align: right;\">\n",
              "      <th></th>\n",
              "      <th>label</th>\n",
              "      <th>sms</th>\n",
              "    </tr>\n",
              "  </thead>\n",
              "  <tbody>\n",
              "    <tr>\n",
              "      <th>0</th>\n",
              "      <td>ham</td>\n",
              "      <td>Go until jurong point, crazy.. Available only ...</td>\n",
              "    </tr>\n",
              "    <tr>\n",
              "      <th>1</th>\n",
              "      <td>ham</td>\n",
              "      <td>Ok lar... Joking wif u oni...</td>\n",
              "    </tr>\n",
              "    <tr>\n",
              "      <th>2</th>\n",
              "      <td>spam</td>\n",
              "      <td>Free entry in 2 a wkly comp to win FA Cup fina...</td>\n",
              "    </tr>\n",
              "    <tr>\n",
              "      <th>3</th>\n",
              "      <td>ham</td>\n",
              "      <td>U dun say so early hor... U c already then say...</td>\n",
              "    </tr>\n",
              "    <tr>\n",
              "      <th>4</th>\n",
              "      <td>ham</td>\n",
              "      <td>Nah I don't think he goes to usf, he lives aro...</td>\n",
              "    </tr>\n",
              "    <tr>\n",
              "      <th>5</th>\n",
              "      <td>spam</td>\n",
              "      <td>FreeMsg Hey there darling it's been 3 week's n...</td>\n",
              "    </tr>\n",
              "    <tr>\n",
              "      <th>6</th>\n",
              "      <td>ham</td>\n",
              "      <td>Even my brother is not like to speak with me. ...</td>\n",
              "    </tr>\n",
              "    <tr>\n",
              "      <th>7</th>\n",
              "      <td>ham</td>\n",
              "      <td>As per your request 'Melle Melle (Oru Minnamin...</td>\n",
              "    </tr>\n",
              "    <tr>\n",
              "      <th>8</th>\n",
              "      <td>spam</td>\n",
              "      <td>WINNER!! As a valued network customer you have...</td>\n",
              "    </tr>\n",
              "    <tr>\n",
              "      <th>9</th>\n",
              "      <td>spam</td>\n",
              "      <td>Had your mobile 11 months or more? U R entitle...</td>\n",
              "    </tr>\n",
              "  </tbody>\n",
              "</table>\n",
              "</div>"
            ],
            "text/plain": [
              "  label                                                sms\n",
              "0   ham  Go until jurong point, crazy.. Available only ...\n",
              "1   ham                      Ok lar... Joking wif u oni...\n",
              "2  spam  Free entry in 2 a wkly comp to win FA Cup fina...\n",
              "3   ham  U dun say so early hor... U c already then say...\n",
              "4   ham  Nah I don't think he goes to usf, he lives aro...\n",
              "5  spam  FreeMsg Hey there darling it's been 3 week's n...\n",
              "6   ham  Even my brother is not like to speak with me. ...\n",
              "7   ham  As per your request 'Melle Melle (Oru Minnamin...\n",
              "8  spam  WINNER!! As a valued network customer you have...\n",
              "9  spam  Had your mobile 11 months or more? U R entitle..."
            ]
          },
          "execution_count": 4,
          "metadata": {},
          "output_type": "execute_result"
        }
      ],
      "source": [
        "data.head(10)"
      ]
    },
    {
      "cell_type": "markdown",
      "metadata": {
        "id": "1FEhiYq6LWl0"
      },
      "source": [
        "The first column stores labels (spam or not spam), the second column contains the text of the message."
      ]
    },
    {
      "cell_type": "markdown",
      "metadata": {
        "id": "TFSpaebKLWl0"
      },
      "source": [
        "Посмотрим, сколько всего объектов:"
      ]
    },
    {
      "cell_type": "code",
      "execution_count": null,
      "metadata": {
        "id": "SY8b26t7LWl0",
        "outputId": "85b4ac82-ea1a-4e02-8ada-d02d91919a20"
      },
      "outputs": [
        {
          "data": {
            "text/plain": [
              "5572"
            ]
          },
          "execution_count": 5,
          "metadata": {},
          "output_type": "execute_result"
        }
      ],
      "source": [
        "len(data)"
      ]
    },
    {
      "cell_type": "markdown",
      "metadata": {
        "id": "wBnkhlwxLWl0"
      },
      "source": [
        "Let's see how many objects of each class:"
      ]
    },
    {
      "cell_type": "code",
      "execution_count": null,
      "metadata": {
        "id": "5ZO3TAoTLWl1",
        "outputId": "e899a0e5-8af8-4642-934e-a07280487949"
      },
      "outputs": [
        {
          "data": {
            "text/plain": [
              "<AxesSubplot:title={'center':'Число сообщений спам / не спам'}>"
            ]
          },
          "execution_count": 6,
          "metadata": {},
          "output_type": "execute_result"
        },
        {
          "data": {
            "image/png": "[encoded data removed]",
            "text/plain": [
              "<Figure size 432x288 with 1 Axes>"
            ]
          },
          "metadata": {
            "needs_background": "light"
          },
          "output_type": "display_data"
        }
      ],
      "source": [
        "counts = data[\"label\"].value_counts()\n",
        "counts.plot(kind='bar', title=\"Число сообщений спам / не спам\")"
      ]
    },
    {
      "cell_type": "code",
      "execution_count": null,
      "metadata": {
        "id": "wuCeIh5dLWl1",
        "outputId": "40332043-88db-45f1-89f9-3d29d366135a"
      },
      "outputs": [
        {
          "data": {
            "text/plain": [
              "ham     4825\n",
              "spam     747\n",
              "Name: label, dtype: int64"
            ]
          },
          "execution_count": 7,
          "metadata": {},
          "output_type": "execute_result"
        }
      ],
      "source": [
        "counts"
      ]
    },
    {
      "cell_type": "markdown",
      "metadata": {
        "id": "qtgRa7SxLWl1"
      },
      "source": [
        "There is much more non-spam than spam in the sample."
      ]
    },
    {
      "cell_type": "markdown",
      "metadata": {
        "id": "fAScVY9ULWl1"
      },
      "source": [
        "### Data preprocessing\n",
        "\n",
        "There are no selected features in the data yet. For texts we can use a simple transformation -- \"bag of words\". Create a dictionary of all the words that appear in sms. For each text object we get as many attributes as there are words in the dictionary and each attribute contains 1 (word included) or 0 (word not included). There is a special tool in sklearn for this purpose:"
      ]
    },
    {
      "cell_type": "code",
      "execution_count": null,
      "metadata": {
        "id": "ZD7hcnF9LWl1"
      },
      "outputs": [],
      "source": [
        "from sklearn.feature_extraction.text import CountVectorizer"
      ]
    },
    {
      "cell_type": "code",
      "execution_count": null,
      "metadata": {
        "id": "TS0dx_SmLWl1"
      },
      "outputs": [],
      "source": [
        "vectorizer = CountVectorizer(max_features=10000)\n",
        "X = vectorizer.fit_transform(data[\"sms\"])"
      ]
    },
    {
      "cell_type": "code",
      "execution_count": null,
      "metadata": {
        "id": "S7CIuViQLWl2"
      },
      "outputs": [],
      "source": [
        "#words in the order in which they appear in the X matrix by columns\n",
        "words = pd.Series(vectorizer.vocabulary_).sort_values().index"
      ]
    },
    {
      "cell_type": "markdown",
      "metadata": {
        "id": "ePF7lnbZLWl2"
      },
      "source": [
        "How many objects and features did you get?"
      ]
    },
    {
      "cell_type": "code",
      "execution_count": null,
      "metadata": {
        "id": "tiixIzKVLWl2",
        "outputId": "c286b984-a267-44e4-c498-1ea9f9dfc02b"
      },
      "outputs": [
        {
          "data": {
            "text/plain": [
              "(5572, 8713)"
            ]
          },
          "execution_count": 11,
          "metadata": {},
          "output_type": "execute_result"
        }
      ],
      "source": [
        "X.shape"
      ]
    },
    {
      "cell_type": "markdown",
      "metadata": {
        "id": "0nWiwi_uLWl2"
      },
      "source": [
        "What's in the matrix itself?"
      ]
    },
    {
      "cell_type": "code",
      "execution_count": null,
      "metadata": {
        "id": "WX8cMe4sLWl2",
        "outputId": "75e441e5-a850-4e35-f6fb-ffe459aac685"
      },
      "outputs": [
        {
          "data": {
            "text/plain": [
              "matrix([[0, 0, 0, ..., 0, 0, 0],\n",
              "        [0, 0, 0, ..., 0, 0, 0],\n",
              "        [0, 0, 0, ..., 0, 0, 0],\n",
              "        [0, 0, 0, ..., 0, 0, 0],\n",
              "        [0, 0, 0, ..., 0, 0, 0]], dtype=int64)"
            ]
          },
          "execution_count": 12,
          "metadata": {},
          "output_type": "execute_result"
        }
      ],
      "source": [
        "X[:5].todense()"
      ]
    },
    {
      "cell_type": "markdown",
      "metadata": {
        "id": "SPm0ndEgLWl2"
      },
      "source": [
        "We hardly see any units in this matrix because there are very few of them."
      ]
    },
    {
      "cell_type": "markdown",
      "metadata": {
        "id": "1sDNxDBULWl2"
      },
      "source": [
        "We have another small problem: the classes are not numbers, but letters. Recode \"spam\" to 1 and \"ham\" to 0 with pandas and write it in the y variable:"
      ]
    },
    {
      "cell_type": "code",
      "execution_count": null,
      "metadata": {
        "id": "brlajZ-KLWl3"
      },
      "outputs": [],
      "source": [
        "### your code here\n",
        "y = data['label'].map({'spam':1, 'ham':0})"
      ]
    },
    {
      "cell_type": "markdown",
      "metadata": {
        "id": "0ny1QHBtLWl3"
      },
      "source": [
        "Divide the data by training and control in the proportion 3:1:"
      ]
    },
    {
      "cell_type": "code",
      "execution_count": null,
      "metadata": {
        "id": "wU6KKLAELWl3"
      },
      "outputs": [],
      "source": [
        "from sklearn.model_selection import train_test_split"
      ]
    },
    {
      "cell_type": "code",
      "execution_count": null,
      "metadata": {
        "id": "LEHOvxMaLWl3"
      },
      "outputs": [],
      "source": [
        "### your code here\n",
        "X_tr, X_te, Y_tr, Y_te = train_test_split(X, y, test_size=0.25)"
      ]
    },
    {
      "cell_type": "markdown",
      "metadata": {
        "id": "FiQkvxZTLWl3"
      },
      "source": [
        "### Linear model training"
      ]
    },
    {
      "cell_type": "markdown",
      "metadata": {
        "id": "6zrFrOo2LWl3"
      },
      "source": [
        "Teach logistic regression:"
      ]
    },
    {
      "cell_type": "code",
      "execution_count": null,
      "metadata": {
        "id": "nE1oGGExLWl3"
      },
      "outputs": [],
      "source": [
        "from sklearn.linear_model import LogisticRegression"
      ]
    },
    {
      "cell_type": "code",
      "execution_count": null,
      "metadata": {
        "id": "Sr7H_a3-LWl3",
        "outputId": "664f56c1-4666-4b93-9f65-d3789a658425"
      },
      "outputs": [
        {
          "data": {
            "text/plain": [
              "LogisticRegression()"
            ]
          },
          "execution_count": 23,
          "metadata": {},
          "output_type": "execute_result"
        }
      ],
      "source": [
        "### your code here\n",
        "model = LogisticRegression()\n",
        "model.fit(X_tr, Y_tr)"
      ]
    },
    {
      "cell_type": "markdown",
      "metadata": {
        "id": "IxR6lWZxLWl3"
      },
      "source": [
        "Create a pandas dataframe with two columns: the first column - the words from the dictionary (defined above), the second - the weights of these words (the coef\\_ attribute of the model, for example, model.coef\\_). Sort the dataframe in ascending order of weights, output 100 words with the highest weights and 100 words with the lowest (the highest modulo negative) weights. \n",
        "\n",
        "Note: model weights have the form (1, num\\_features), while we need (num\\_features,), so we need to use a construction like model.coef\\_[0]."
      ]
    },
    {
      "cell_type": "code",
      "execution_count": null,
      "metadata": {
        "id": "WefiQM9PLWl4",
        "outputId": "703c55e4-c772-4c18-8916-cbe9b8f779c6"
      },
      "outputs": [
        {
          "name": "stdout",
          "output_type": "stream",
          "text": [
            "         words   weights\n",
            "5254        my -1.207501\n",
            "4793        lt -1.037513\n",
            "3684        gt -1.030200\n",
            "4968        me -0.981824\n",
            "3881       him -0.782405\n",
            "...        ...       ...\n",
            "4472      know -0.303405\n",
            "6101  princess -0.297180\n",
            "8391       wen -0.295791\n",
            "5371      nice -0.293607\n",
            "2279      copy -0.293202\n",
            "\n",
            "[100 rows x 2 columns]\n",
            "             words   weights\n",
            "7986           txt  2.173760\n",
            "6525      ringtone  1.871017\n",
            "1828          call  1.811786\n",
            "6442         reply  1.626675\n",
            "5358           new  1.553190\n",
            "...            ...       ...\n",
            "6631          sale  0.541282\n",
            "7658          than  0.540764\n",
            "2472          days  0.540026\n",
            "1114  announcement  0.539871\n",
            "5349       network  0.539080\n",
            "\n",
            "[100 rows x 2 columns]\n"
          ]
        }
      ],
      "source": [
        "### your code here\n",
        "data2 = pd.DataFrame({'words': words, 'weights': model.coef_[0]})\n",
        "data2.sort_values('weights')\n",
        "print(data2.sort_values('weights').head(100))\n",
        "print(data2.sort_values('weights').tail(100))"
      ]
    },
    {
      "cell_type": "markdown",
      "metadata": {
        "id": "zr6A_eBTLWl4"
      },
      "source": [
        "Can we say that the top words really characterize each of the two classes? Why?\n",
        "\n",
        "__Your comment:__\n",
        "In general, you could say so, because you can see that top words with high weight occur more often in spam messages (often these are ads about promotions, new products, etc.)\n",
        "Whereas words with low weight are almost never found in spam-messages, and for the most part are found in personal texts (there are abbreviations and acronyms, for example, that people use in communication)"
      ]
    },
    {
      "cell_type": "markdown",
      "metadata": {
        "collapsed": true,
        "id": "efnirFprLWl4"
      },
      "source": [
        "### Quality"
      ]
    },
    {
      "cell_type": "markdown",
      "metadata": {
        "id": "h5d0LdPjLWmF"
      },
      "source": [
        "Calculate the accuracy of the training and test samples:"
      ]
    },
    {
      "cell_type": "code",
      "execution_count": null,
      "metadata": {
        "id": "0Op_c_K1LWmF"
      },
      "outputs": [],
      "source": [
        "from sklearn.metrics import accuracy_score"
      ]
    },
    {
      "cell_type": "code",
      "execution_count": null,
      "metadata": {
        "id": "kXG4XbbgLWmF",
        "outputId": "2f8dbff5-3390-474e-b967-f56388f3b489"
      },
      "outputs": [
        {
          "name": "stdout",
          "output_type": "stream",
          "text": [
            "0.998324958123953 0.9870782483847811\n"
          ]
        }
      ],
      "source": [
        "### your code here\n",
        "preds_tr = model.predict(X_tr)\n",
        "preds_te = model.predict(X_te)\n",
        "tr_accuracy = accuracy_score(Y_tr, preds_tr)\n",
        "te_accuracy = accuracy_score(Y_te, preds_te)\n",
        "print(tr_accuracy, te_accuracy)"
      ]
    },
    {
      "cell_type": "markdown",
      "metadata": {
        "id": "oWn59VXeLWmG"
      },
      "source": [
        "Since class 1 is rare in the data, it is better to use precision and completeness. Calculate them for the test sample:"
      ]
    },
    {
      "cell_type": "code",
      "execution_count": null,
      "metadata": {
        "id": "1BcWeu07LWmG"
      },
      "outputs": [],
      "source": [
        "from sklearn.metrics import precision_score, recall_score, f1_score"
      ]
    },
    {
      "cell_type": "code",
      "execution_count": null,
      "metadata": {
        "id": "6Vr5BmYPLWmG",
        "outputId": "289308a5-b12b-4b77-8975-7b81c16cd83d"
      },
      "outputs": [
        {
          "name": "stdout",
          "output_type": "stream",
          "text": [
            "0.9878048780487805\n",
            "0.9101123595505618\n"
          ]
        }
      ],
      "source": [
        "### your code here\n",
        "precision = precision_score(Y_te, preds_te)\n",
        "print(precision)\n",
        "recall = recall_score(Y_te, preds_te)\n",
        "print(recall)"
      ]
    },
    {
      "cell_type": "markdown",
      "metadata": {
        "collapsed": true,
        "id": "aeXAMsUeLWmG"
      },
      "source": [
        "Which statement is correct? Explain your answer.\n",
        "\n",
        "* The algorithm finds almost all spam SMS messages, but sometimes it incorrectly includes non-spam ones.\n",
        "* Almost everything that the algorithm classifies as spam text messages is indeed spam. However, the algorithm does not find all spam messages.\n",
        "\n",
        "__Your comment:__\n",
        "The statement that \"Almost everything the algorithm classifies as spam text messages is indeed spam is correct. However, the algorithm does not find all spam messages\" because it can be seen that accuracy is higher than completeness. At high precision, the algorithm just right(!) identifies the target objects (in our case spam), but not the highest completeness says that it still does not identify all the spam messages in the sample that are found there."
      ]
    },
    {
      "cell_type": "markdown",
      "metadata": {
        "id": "dPikANtELWmG"
      },
      "source": [
        "Construct an ROC curve for your trained model. Use the predictions on the test sample. \n",
        "1. Instead of the predict function, you should use the predict_proba function. It will return a matrix of size (number of objects, 2), for each object the probability of class 0 and the probability of class 1.\n",
        "2. You need to extract the vector of class 1 probabilities and use it to construct the ROC curve."
      ]
    },
    {
      "cell_type": "code",
      "execution_count": null,
      "metadata": {
        "id": "1ijOVBNYLWmG"
      },
      "outputs": [],
      "source": [
        "from sklearn.metrics import roc_curve"
      ]
    },
    {
      "cell_type": "code",
      "execution_count": null,
      "metadata": {
        "id": "MIJkUuxILWmH"
      },
      "outputs": [],
      "source": [
        "from matplotlib import pyplot as plt"
      ]
    },
    {
      "cell_type": "code",
      "execution_count": null,
      "metadata": {
        "id": "gcqAfw7dLWmH",
        "outputId": "ca374be7-aeff-4446-c449-d2fc796e5f9d"
      },
      "outputs": [
        {
          "data": {
            "text/plain": [
              "Text(0.5, 1.0, 'ROC-кривая')"
            ]
          },
          "execution_count": 54,
          "metadata": {},
          "output_type": "execute_result"
        },
        {
          "data": {
            "image/png": "[encoded data removed]",
            "text/plain": [
              "<Figure size 432x288 with 1 Axes>"
            ]
          },
          "metadata": {
            "needs_background": "light"
          },
          "output_type": "display_data"
        }
      ],
      "source": [
        "### your code here\n",
        "preds2 = model.predict_proba(X_te)\n",
        "vector = preds2[:,1]\n",
        "fpr, tpr, treshold = roc_curve(Y_te, vector)\n",
        "plt.plot(fpr,tpr)\n",
        "plt.xlabel('False Positive')\n",
        "plt.ylabel('True Positive')\n",
        "plt.title('ROC-кривая')"
      ]
    },
    {
      "cell_type": "markdown",
      "metadata": {
        "collapsed": true,
        "id": "ekSPjaLJLWmH"
      },
      "source": [
        "### Selection of hyperparameter - regularization coefficient\n",
        "\n",
        "There are as many features in our data as there are words in the dictionary. In linear models, there is a special tool that allows you to automatically select relevant features - regularization, or more precisely, Lasso (L1) regularization. When regularization is used, the regularizer is added to the quality functional that is optimized when training a linear model, which is the sum of moduli of weights multiplied by the regularization coefficient. The regularization coefficient determines the strength of the regularizer: if the coefficient is very small, the regularizer almost does not change the model, if the coefficient is very large, the regularizer interferes with the model to adjust to the data. If the Lasso-regularization coefficient is large enough, most of the weights in the model become zero, and the corresponding features are not used. The regularization coefficient is usually chosen using cross-validation.\n",
        "\n",
        "First, let's see how many zero weights there are in the model without regularization (the one you have already trained). Recall that the model weights are stored in the coef\\_ attribute of the model. Use numpy to calculate the percentage of weights that are 0:"
      ]
    },
    {
      "cell_type": "code",
      "execution_count": null,
      "metadata": {
        "id": "rDWLlxKhLWmH"
      },
      "outputs": [],
      "source": [
        "import numpy as np"
      ]
    },
    {
      "cell_type": "code",
      "execution_count": null,
      "metadata": {
        "id": "O3NjYuClLWmH",
        "outputId": "cc227945-6bb2-4d56-e76f-215a480a1883"
      },
      "outputs": [
        {
          "name": "stdout",
          "output_type": "stream",
          "text": [
            "14.059451394468041\n"
          ]
        }
      ],
      "source": [
        "### your code here\n",
        "print(100 - np.count_nonzero(model.coef_)/model.coef_.shape[1]*100)"
      ]
    },
    {
      "cell_type": "markdown",
      "metadata": {
        "id": "73hz8vO8LWmH"
      },
      "source": [
        "Now train logistic regression with default Lasso-regularization coefficient. To do this, specify penalty='l1' when creating an object of class LogisticRegression:"
      ]
    },
    {
      "cell_type": "code",
      "execution_count": null,
      "metadata": {
        "id": "FjFEXK_dLWmH",
        "outputId": "285b5135-1b88-4d37-da00-08a8511cfc11"
      },
      "outputs": [
        {
          "data": {
            "text/plain": [
              "LogisticRegression(penalty='l1', solver='liblinear')"
            ]
          },
          "execution_count": 71,
          "metadata": {},
          "output_type": "execute_result"
        }
      ],
      "source": [
        "### your code here\n",
        "model2 = LogisticRegression(penalty='l1', solver = 'liblinear')\n",
        "model2.fit(X_tr, Y_tr)"
      ]
    },
    {
      "cell_type": "markdown",
      "metadata": {
        "id": "qv9vIj5ELWmI"
      },
      "source": [
        "What is the percentage of zero weights in the new model?"
      ]
    },
    {
      "cell_type": "code",
      "execution_count": null,
      "metadata": {
        "id": "uqQzVbayLWmI",
        "outputId": "ba8673d5-6e93-4c93-bd1f-8e9ad174a699"
      },
      "outputs": [
        {
          "name": "stdout",
          "output_type": "stream",
          "text": [
            "97.81935039596006\n"
          ]
        }
      ],
      "source": [
        "### your code hre\n",
        "print(100 - np.count_nonzero(model2.coef_)/model2.coef_.shape[1]*100)"
      ]
    },
    {
      "cell_type": "markdown",
      "metadata": {
        "id": "tdGw-A-HLWmI"
      },
      "source": [
        "Now let's find the regularization coefficient using crossvalidation. We will use GridSearchCV to do this:"
      ]
    },
    {
      "cell_type": "code",
      "execution_count": null,
      "metadata": {
        "id": "YoEH9EybLWmI"
      },
      "outputs": [],
      "source": [
        "from sklearn.model_selection import GridSearchCV"
      ]
    },
    {
      "cell_type": "markdown",
      "metadata": {
        "id": "rgTS8G5aLWmI"
      },
      "source": [
        "GridSearchCV has the same interface as the classifier, with fit-predict. But, unlike the regular classifier, not one model is trained during the fit call, but several. In more detail:\n",
        "1. For each variant of the regularization factor:\n",
        "    1. Divide the sample into several blocks\n",
        "    2. Repeat several times: select one block as a test sample, all other blocks as training ones. Train the model, calculate the quality on the test block.\n",
        "    3. Average quality over all repetitions from the previous step.\n",
        "2. Choose the regularization coefficient with the best average quality.\n",
        "3. Retrain the model on all training data with the selected regularization coefficient.\n",
        "\n",
        "As a result, when fit is called, the .best\\_estimator\\_ attribute will store the final model (you can do the same with it as with conventional logistic regression), and the .grid\\_scores\\_ attribute will store the history of all runs.\n",
        "\n",
        "Write to the variable model\\_for\\_cv the model of logistic regression with the selected regularization \"l1\", and to the variable param\\_grid - vector of regularization coefficients $1, 10, 100, \\dots, 10^9$ (use numpy)."
      ]
    },
    {
      "cell_type": "code",
      "execution_count": null,
      "metadata": {
        "id": "5J1bdSNDLWmI"
      },
      "outputs": [],
      "source": [
        "model_for_gs = LogisticRegression(penalty='l1', solver = 'liblinear')\n",
        "param_grid = np.geomspace(1, 10**10, num=10, endpoint=False)\n",
        "gs = GridSearchCV(model_for_gs, \\\n",
        "                   {\"C\":param_grid}, \\\n",
        "                   verbose=3)"
      ]
    },
    {
      "cell_type": "markdown",
      "metadata": {
        "id": "zY7WE7uTLWmI"
      },
      "source": [
        "training:"
      ]
    },
    {
      "cell_type": "code",
      "execution_count": null,
      "metadata": {
        "id": "df8f4eSRLWmJ",
        "outputId": "e3cbfae5-4896-4755-dd43-3c077826e69e"
      },
      "outputs": [
        {
          "name": "stdout",
          "output_type": "stream",
          "text": [
            "Fitting 5 folds for each of 10 candidates, totalling 50 fits\n",
            "[CV 1/5] END .............................C=1.0;, score=0.977 total time=   0.0s\n",
            "[CV 2/5] END .............................C=1.0;, score=0.978 total time=   0.0s\n",
            "[CV 3/5] END .............................C=1.0;, score=0.982 total time=   0.0s\n",
            "[CV 4/5] END .............................C=1.0;, score=0.980 total time=   0.0s\n",
            "[CV 5/5] END .............................C=1.0;, score=0.981 total time=   0.0s\n",
            "[CV 1/5] END ............................C=10.0;, score=0.984 total time=   0.0s\n",
            "[CV 2/5] END ............................C=10.0;, score=0.980 total time=   0.0s\n",
            "[CV 3/5] END ............................C=10.0;, score=0.982 total time=   0.0s\n",
            "[CV 4/5] END ............................C=10.0;, score=0.977 total time=   0.0s\n",
            "[CV 5/5] END ............................C=10.0;, score=0.981 total time=   0.0s\n",
            "[CV 1/5] END ...........................C=100.0;, score=0.983 total time=   0.0s\n",
            "[CV 2/5] END ...........................C=100.0;, score=0.981 total time=   0.0s\n",
            "[CV 3/5] END ...........................C=100.0;, score=0.982 total time=   0.0s\n",
            "[CV 4/5] END ...........................C=100.0;, score=0.986 total time=   0.0s\n",
            "[CV 5/5] END ...........................C=100.0;, score=0.977 total time=   0.0s\n",
            "[CV 1/5] END ..........................C=1000.0;, score=0.981 total time=   0.0s\n",
            "[CV 2/5] END ..........................C=1000.0;, score=0.980 total time=   0.0s\n",
            "[CV 3/5] END ..........................C=1000.0;, score=0.983 total time=   0.0s\n",
            "[CV 4/5] END ..........................C=1000.0;, score=0.984 total time=   0.0s\n",
            "[CV 5/5] END ..........................C=1000.0;, score=0.983 total time=   0.0s\n",
            "[CV 1/5] END .........................C=10000.0;, score=0.977 total time=   0.0s\n",
            "[CV 2/5] END .........................C=10000.0;, score=0.980 total time=   0.0s\n",
            "[CV 3/5] END .........................C=10000.0;, score=0.980 total time=   0.0s\n",
            "[CV 4/5] END .........................C=10000.0;, score=0.983 total time=   0.0s\n",
            "[CV 5/5] END .........................C=10000.0;, score=0.984 total time=   0.0s\n",
            "[CV 1/5] END ........................C=100000.0;, score=0.968 total time=   0.0s\n",
            "[CV 2/5] END ........................C=100000.0;, score=0.969 total time=   0.0s\n",
            "[CV 3/5] END ........................C=100000.0;, score=0.976 total time=   0.0s\n",
            "[CV 4/5] END ........................C=100000.0;, score=0.978 total time=   0.0s\n",
            "[CV 5/5] END ........................C=100000.0;, score=0.969 total time=   0.0s\n",
            "[CV 1/5] END .......................C=1000000.0;, score=0.967 total time=   0.0s\n",
            "[CV 2/5] END .......................C=1000000.0;, score=0.969 total time=   0.0s\n",
            "[CV 3/5] END .......................C=1000000.0;, score=0.967 total time=   0.0s\n",
            "[CV 4/5] END .......................C=1000000.0;, score=0.961 total time=   0.0s\n",
            "[CV 5/5] END .......................C=1000000.0;, score=0.959 total time=   0.0s\n",
            "[CV 1/5] END ......................C=10000000.0;, score=0.959 total time=   0.0s\n",
            "[CV 2/5] END ......................C=10000000.0;, score=0.967 total time=   0.0s\n",
            "[CV 3/5] END ......................C=10000000.0;, score=0.965 total time=   0.0s\n",
            "[CV 4/5] END ......................C=10000000.0;, score=0.964 total time=   0.0s\n",
            "[CV 5/5] END ......................C=10000000.0;, score=0.966 total time=   0.0s\n",
            "[CV 1/5] END .....................C=100000000.0;, score=0.956 total time=   0.0s\n",
            "[CV 2/5] END .....................C=100000000.0;, score=0.965 total time=   0.0s\n",
            "[CV 3/5] END .....................C=100000000.0;, score=0.969 total time=   0.0s\n",
            "[CV 4/5] END .....................C=100000000.0;, score=0.963 total time=   0.0s\n",
            "[CV 5/5] END .....................C=100000000.0;, score=0.962 total time=   0.0s\n",
            "[CV 1/5] END ....................C=1000000000.0;, score=0.961 total time=   0.0s\n",
            "[CV 2/5] END ....................C=1000000000.0;, score=0.968 total time=   0.0s\n",
            "[CV 3/5] END ....................C=1000000000.0;, score=0.958 total time=   0.0s\n",
            "[CV 4/5] END ....................C=1000000000.0;, score=0.965 total time=   0.0s\n",
            "[CV 5/5] END ....................C=1000000000.0;, score=0.962 total time=   0.0s\n"
          ]
        },
        {
          "data": {
            "text/plain": [
              "LogisticRegression(C=1000.0, penalty='l1', solver='liblinear')"
            ]
          },
          "execution_count": 88,
          "metadata": {},
          "output_type": "execute_result"
        }
      ],
      "source": [
        "### your code here\n",
        "gs.fit(X_tr, Y_tr)\n",
        "gs.best_estimator_"
      ]
    },
    {
      "cell_type": "markdown",
      "metadata": {
        "id": "4eLxwsZpLWmJ"
      },
      "source": [
        "Let's draw a graph: regularization coefficient - quality:"
      ]
    },
    {
      "cell_type": "code",
      "execution_count": null,
      "metadata": {
        "id": "v86OhepmLWmJ",
        "outputId": "50af1601-dd7c-4111-a2b8-491f4910ea4a"
      },
      "outputs": [
        {
          "data": {
            "text/plain": [
              "Text(0, 0.5, 'accuracy')"
            ]
          },
          "execution_count": 89,
          "metadata": {},
          "output_type": "execute_result"
        },
        {
          "data": {
            "image/png": "[encoded data removed]",
            "text/plain": [
              "<Figure size 432x288 with 1 Axes>"
            ]
          },
          "metadata": {
            "needs_background": "light"
          },
          "output_type": "display_data"
        }
      ],
      "source": [
        "cs = np.log10([elem for elem in gs.cv_results_['param_C']])\n",
        "quals = [elem for elem in gs.cv_results_['mean_test_score']]\n",
        "plt.plot(cs, quals)\n",
        "\n",
        "plt.xlabel(\"log10 of C\")\n",
        "plt.ylabel(\"accuracy\")"
      ]
    },
    {
      "cell_type": "markdown",
      "metadata": {
        "id": "376lW-AbLWmJ"
      },
      "source": [
        "What is the optimal C? What happens when C is very large and very small? Note that in logistic regression, the regularization coefficient is actually $\\frac 1 C$, that is, the larger C, the smaller the coefficient.\n",
        "\n",
        "__Your comment:__\n",
        "Optimally C = 1000, with very large and very small C the accuracy decreases"
      ]
    },
    {
      "cell_type": "markdown",
      "metadata": {
        "id": "qS_jCRIWLWmJ"
      },
      "source": [
        "What is the proportion of zero weights in the model with the best C?"
      ]
    },
    {
      "cell_type": "code",
      "execution_count": null,
      "metadata": {
        "id": "CmHS95XXLWmJ",
        "outputId": "b1616e3e-dd3a-443e-a0e4-cc8f4fd3dbdd"
      },
      "outputs": [
        {
          "name": "stdout",
          "output_type": "stream",
          "text": [
            "92.90715023528061\n"
          ]
        }
      ],
      "source": [
        "## your code here\n",
        "print(100 - np.count_nonzero(gs.best_estimator_.coef_)/gs.best_estimator_.coef_.shape[1]*100)"
      ]
    },
    {
      "cell_type": "markdown",
      "metadata": {
        "id": "SJLgLg8YLWmJ"
      },
      "source": [
        "What quality does the model with the best C show on our deferred, test data?"
      ]
    },
    {
      "cell_type": "code",
      "execution_count": null,
      "metadata": {
        "id": "tfOjf09dLWmJ",
        "outputId": "92ec8126-e0e6-4dc5-fd27-42774ed0d35a"
      },
      "outputs": [
        {
          "data": {
            "text/plain": [
              "0.9877961234745154"
            ]
          },
          "execution_count": 91,
          "metadata": {},
          "output_type": "execute_result"
        }
      ],
      "source": [
        "## your code here\n",
        "predicty = gs.best_estimator_.predict(X_te)\n",
        "te_accuracy2 = accuracy_score(Y_te, predicty)\n",
        "te_accuracy2"
      ]
    },
    {
      "cell_type": "markdown",
      "metadata": {
        "id": "yrkOBOmNLWmK"
      },
      "source": [
        "Compare the non-sparse (without regularization) and sparse (with optimal C) models in terms of quality on the test sample and the fraction of zero weights.\n",
        "\n",
        "__Your comment:__\n",
        "In the model without regularization the percentage of null weights was equal to 14%, in the model with regularization with optimal coefficient of regularization the percentage of null weights became equal to 93%, that is, most of the insignificant features were cancelled after regularization and the model became better predictors of data (as you can see by comparing the accuracy on the test sample before regularization (0.9870782483847811) and after regularization (0.9877961234745154) - after regularization the accuracy became larger)."
      ]
    },
    {
      "cell_type": "code",
      "execution_count": null,
      "metadata": {
        "id": "2LXKhhtGLWmK"
      },
      "outputs": [],
      "source": []
    }
  ],
  "metadata": {
    "kernelspec": {
      "display_name": "Python 3 (ipykernel)",
      "language": "python",
      "name": "python3"
    },
    "language_info": {
      "codemirror_mode": {
        "name": "ipython",
        "version": 3
      },
      "file_extension": ".py",
      "mimetype": "text/x-python",
      "name": "python",
      "nbconvert_exporter": "python",
      "pygments_lexer": "ipython3",
      "version": "3.9.7"
    },
    "colab": {
      "provenance": []
    }
  },
  "nbformat": 4,
  "nbformat_minor": 0
}